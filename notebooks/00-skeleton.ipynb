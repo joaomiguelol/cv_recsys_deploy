{
 "cells": [
  {
   "cell_type": "code",
   "execution_count": 1,
   "metadata": {},
   "outputs": [
    {
     "name": "stderr",
     "output_type": "stream",
     "text": [
      "2023-09-09 13:48:08.206927: I tensorflow/core/util/port.cc:110] oneDNN custom operations are on. You may see slightly different numerical results due to floating-point round-off errors from different computation orders. To turn them off, set the environment variable `TF_ENABLE_ONEDNN_OPTS=0`.\n",
      "2023-09-09 13:48:08.231365: I tensorflow/core/platform/cpu_feature_guard.cc:183] This TensorFlow binary is optimized to use available CPU instructions in performance-critical operations.\n",
      "To enable the following instructions: SSE3 SSE4.1 SSE4.2 AVX, in other operations, rebuild TensorFlow with the appropriate compiler flags.\n"
     ]
    },
    {
     "name": "stdout",
     "output_type": "stream",
     "text": [
      "WARNING:tensorflow:Please fix your imports. Module tensorflow.python.training.tracking.data_structures has been moved to tensorflow.python.trackable.data_structures. The old module will be deleted in version 2.11.\n"
     ]
    },
    {
     "name": "stderr",
     "output_type": "stream",
     "text": [
      "2023-09-09 13:48:09.217597: I tensorflow/compiler/xla/stream_executor/cuda/cuda_gpu_executor.cc:1013] successful NUMA node read from SysFS had negative value (-1), but there must be at least one NUMA node, so returning NUMA node zero. See more at https://github.com/torvalds/linux/blob/v6.0/Documentation/ABI/testing/sysfs-bus-pci#L344-L355\n",
      "2023-09-09 13:48:09.217825: I tensorflow/compiler/xla/stream_executor/cuda/cuda_gpu_executor.cc:1013] successful NUMA node read from SysFS had negative value (-1), but there must be at least one NUMA node, so returning NUMA node zero. See more at https://github.com/torvalds/linux/blob/v6.0/Documentation/ABI/testing/sysfs-bus-pci#L344-L355\n",
      "2023-09-09 13:48:09.218033: I tensorflow/compiler/xla/stream_executor/cuda/cuda_gpu_executor.cc:1013] successful NUMA node read from SysFS had negative value (-1), but there must be at least one NUMA node, so returning NUMA node zero. See more at https://github.com/torvalds/linux/blob/v6.0/Documentation/ABI/testing/sysfs-bus-pci#L344-L355\n"
     ]
    },
    {
     "name": "stdout",
     "output_type": "stream",
     "text": [
      "[INFO]: sparse_operation_kit is imported\n",
      "WARNING:tensorflow:Please fix your imports. Module tensorflow.python.training.tracking.base has been moved to tensorflow.python.trackable.base. The old module will be deleted in version 2.11.\n",
      "[SOK INFO] Import /usr/local/lib/python3.8/dist-packages/merlin_sok-1.2.0-py3.8-linux-x86_64.egg/sparse_operation_kit/lib/libsok_experiment.so\n",
      "[SOK INFO] Import /usr/local/lib/python3.8/dist-packages/merlin_sok-1.2.0-py3.8-linux-x86_64.egg/sparse_operation_kit/lib/libsok_experiment.so\n",
      "[SOK INFO] Initialize finished, communication tool: horovod\n"
     ]
    },
    {
     "name": "stderr",
     "output_type": "stream",
     "text": [
      "2023-09-09 13:48:09.592387: I tensorflow/compiler/xla/stream_executor/cuda/cuda_gpu_executor.cc:1013] successful NUMA node read from SysFS had negative value (-1), but there must be at least one NUMA node, so returning NUMA node zero. See more at https://github.com/torvalds/linux/blob/v6.0/Documentation/ABI/testing/sysfs-bus-pci#L344-L355\n",
      "2023-09-09 13:48:09.592510: I tensorflow/compiler/xla/stream_executor/cuda/cuda_gpu_executor.cc:1013] successful NUMA node read from SysFS had negative value (-1), but there must be at least one NUMA node, so returning NUMA node zero. See more at https://github.com/torvalds/linux/blob/v6.0/Documentation/ABI/testing/sysfs-bus-pci#L344-L355\n",
      "2023-09-09 13:48:09.592559: I tensorflow/compiler/xla/stream_executor/cuda/cuda_gpu_executor.cc:1013] successful NUMA node read from SysFS had negative value (-1), but there must be at least one NUMA node, so returning NUMA node zero. See more at https://github.com/torvalds/linux/blob/v6.0/Documentation/ABI/testing/sysfs-bus-pci#L344-L355\n",
      "2023-09-09 13:48:09.886962: I tensorflow/compiler/xla/stream_executor/cuda/cuda_gpu_executor.cc:1013] successful NUMA node read from SysFS had negative value (-1), but there must be at least one NUMA node, so returning NUMA node zero. See more at https://github.com/torvalds/linux/blob/v6.0/Documentation/ABI/testing/sysfs-bus-pci#L344-L355\n",
      "2023-09-09 13:48:09.887067: I tensorflow/compiler/xla/stream_executor/cuda/cuda_gpu_executor.cc:1013] successful NUMA node read from SysFS had negative value (-1), but there must be at least one NUMA node, so returning NUMA node zero. See more at https://github.com/torvalds/linux/blob/v6.0/Documentation/ABI/testing/sysfs-bus-pci#L344-L355\n",
      "2023-09-09 13:48:09.887118: I tensorflow/compiler/xla/stream_executor/cuda/cuda_gpu_executor.cc:1013] successful NUMA node read from SysFS had negative value (-1), but there must be at least one NUMA node, so returning NUMA node zero. See more at https://github.com/torvalds/linux/blob/v6.0/Documentation/ABI/testing/sysfs-bus-pci#L344-L355\n",
      "2023-09-09 13:48:09.887151: W tensorflow/core/common_runtime/gpu/gpu_bfc_allocator.cc:47] Overriding orig_value setting because the TF_FORCE_GPU_ALLOW_GROWTH environment variable is set. Original config value was 0.\n",
      "2023-09-09 13:48:09.887171: I tensorflow/core/common_runtime/gpu/gpu_device.cc:1638] Created device /job:localhost/replica:0/task:0/device:GPU:0 with 6011 MB memory:  -> device: 0, name: NVIDIA GeForce RTX 3060, pci bus id: 0000:01:00.0, compute capability: 8.6\n"
     ]
    }
   ],
   "source": [
    "import warnings\n",
    "warnings.filterwarnings('ignore')\n",
    "import nvtabular as nvt\n",
    "import cudf\n",
    "import config\n",
    "import os\n",
    "# ignore warnings\n",
    "from merlin.core.dispatch import get_lib\n",
    "from merlin.schema.tags import Tags\n",
    "\n",
    "import time\n",
    "import merlin.models.tf as mm\n",
    "# from dask.distributed import Client, wait\n",
    "# from dask_cuda import LocalCUDACluster\n",
    "# from dask.utils import parse_bytes\n",
    "\n",
    "from merlin.schema.tags import Tags\n",
    "from nvtabular.ops import *\n",
    "\n",
    "from merlin.schema.tags import Tags\n",
    "from merlin.io.dataset import Dataset\n",
    "import pandas as pd\n",
    "from sklearn.preprocessing import LabelEncoder\n",
    "import numpy as np"
   ]
  },
  {
   "cell_type": "code",
   "execution_count": 2,
   "metadata": {},
   "outputs": [],
   "source": [
    "train = pd.read_parquet(os.path.join(config.data_raw_dir,'transactions.parquet'))\n",
    "customers = pd.read_parquet(os.path.join(config.data_raw_dir,'customers.parquet'))\n",
    "\n",
    "encoder = LabelEncoder()\n",
    "merged_ids = pd.concat([train['customer_id'], customers['customer_id']])\n",
    "encoder.fit(merged_ids)\n",
    "train['customer_id'] = encoder.transform(train['customer_id'])\n",
    "customers['customer_id'] = encoder.transform(customers['customer_id'])\n",
    "customers.to_parquet(os.path.join(config.data_processed_dir,'customers_enc.parquet'))\n",
    "del customers\n",
    "\n",
    "\n"
   ]
  },
  {
   "cell_type": "code",
   "execution_count": 3,
   "metadata": {},
   "outputs": [],
   "source": [
    "# convert  t_dat column to datetime\n",
    "train['t_dat'] = pd.to_datetime(train['t_dat'])\n",
    "train['week'] = 104 -(train['t_dat'].max() - train['t_dat']).dt.days // 7\n",
    "start = 60\n",
    "end = 90\n",
    "valid = train[train.week>end]\n",
    "train = train[(train.week>start) & (train.week<=end)]\n",
    "in_train = valid[valid['customer_id'].isin(train['customer_id'])]\n",
    "not_in_train = valid[~valid['customer_id'].isin(train['customer_id'])]\n"
   ]
  },
  {
   "cell_type": "code",
   "execution_count": 4,
   "metadata": {},
   "outputs": [
    {
     "name": "stdout",
     "output_type": "stream",
     "text": [
      "train shape (8231156, 6)\n",
      "valid shape (4453834, 6)\n",
      "valid shape (3706105, 6)\n",
      "not in train shape (747729, 6)\n"
     ]
    }
   ],
   "source": [
    "print('train shape', train.shape)\n",
    "print('valid shape', valid.shape)\n",
    "print('valid shape', in_train.shape)\n",
    "print('not in train shape', not_in_train.shape)"
   ]
  },
  {
   "cell_type": "code",
   "execution_count": 5,
   "metadata": {},
   "outputs": [
    {
     "name": "stdout",
     "output_type": "stream",
     "text": [
      "train customers 780121\n",
      "train customers 557962\n",
      "valid customers 408937\n",
      "not in train customers 149025\n"
     ]
    }
   ],
   "source": [
    "# sees number of customers in train and valid\n",
    "print('train customers', train['customer_id'].nunique())\n",
    "print('train customers', valid['customer_id'].nunique())\n",
    "print('valid customers', in_train['customer_id'].nunique())\n",
    "print('not in train customers', not_in_train['customer_id'].nunique())"
   ]
  },
  {
   "cell_type": "code",
   "execution_count": 6,
   "metadata": {},
   "outputs": [
    {
     "name": "stdout",
     "output_type": "stream",
     "text": [
      "mean of number of rows with the same customer_id in train t_dat               10.551127\n",
      "article_id          10.551127\n",
      "price               10.551127\n",
      "sales_channel_id    10.551127\n",
      "week                10.551127\n",
      "dtype: float64\n",
      "mean of number of rows with the same customer_id in valid t_dat               7.982325\n",
      "article_id          7.982325\n",
      "price               7.982325\n",
      "sales_channel_id    7.982325\n",
      "week                7.982325\n",
      "dtype: float64\n",
      "mean of number of rows with the same customer_id in valid t_dat               9.062777\n",
      "article_id          9.062777\n",
      "price               9.062777\n",
      "sales_channel_id    9.062777\n",
      "week                9.062777\n",
      "dtype: float64\n",
      "mean of number of rows with the same customer_id in not in train t_dat               5.017474\n",
      "article_id          5.017474\n",
      "price               5.017474\n",
      "sales_channel_id    5.017474\n",
      "week                5.017474\n",
      "dtype: float64\n"
     ]
    }
   ],
   "source": [
    "# see mean of number of rows with the same customer_id\n",
    "print('mean of number of rows with the same customer_id in train', train.groupby('customer_id').count().mean())\n",
    "print('mean of number of rows with the same customer_id in valid', valid.groupby('customer_id').count().mean())\n",
    "print('mean of number of rows with the same customer_id in valid', in_train.groupby('customer_id').count().mean())\n",
    "print('mean of number of rows with the same customer_id in not in train', not_in_train.groupby('customer_id').count().mean())"
   ]
  },
  {
   "cell_type": "code",
   "execution_count": 7,
   "metadata": {},
   "outputs": [
    {
     "name": "stdout",
     "output_type": "stream",
     "text": [
      "number of rows with the same customer_id grater than 5 and less than 20 in train t_dat               296118\n",
      "article_id          296118\n",
      "price               296118\n",
      "sales_channel_id    296118\n",
      "week                296118\n",
      "dtype: int64\n",
      "number of rows with the same customer_id grater than 5 and less than 20 in valid t_dat               209686\n",
      "article_id          209686\n",
      "price               209686\n",
      "sales_channel_id    209686\n",
      "week                209686\n",
      "dtype: int64\n",
      "number of rows with the same customer_id grater than 5 in train t_dat               409013\n",
      "article_id          409013\n",
      "price               409013\n",
      "sales_channel_id    409013\n",
      "week                409013\n",
      "dtype: int64\n",
      "number of rows with the same customer_id grater than 5 in valid t_dat               255853\n",
      "article_id          255853\n",
      "price               255853\n",
      "sales_channel_id    255853\n",
      "week                255853\n",
      "dtype: int64\n"
     ]
    }
   ],
   "source": [
    "# number of rows with the same customer_id grater than 5 and less than 20\n",
    "print('number of rows with the same customer_id grater than 5 and less than 20 in train', ((train.groupby('customer_id').count()>5) & (train.groupby('customer_id').count()<20)).sum())\n",
    "print('number of rows with the same customer_id grater than 5 and less than 20 in valid', ((valid.groupby('customer_id').count()>5) & (valid.groupby('customer_id').count()<20)).sum())\n",
    "\n",
    "print('number of rows with the same customer_id grater than 5 in train', (train.groupby('customer_id').count()>5).sum())\n",
    "print('number of rows with the same customer_id grater than 5 in valid', (valid.groupby('customer_id').count()>5).sum())"
   ]
  },
  {
   "cell_type": "code",
   "execution_count": 8,
   "metadata": {},
   "outputs": [
    {
     "name": "stdout",
     "output_type": "stream",
     "text": [
      "Number of common customers between train and valid:  408937\n",
      "Number of common items between train and valid:  32819\n",
      "Number of customers in train:  780121\n",
      "Number of customers in valid:  557962\n",
      "Number of items in train:  55238\n",
      "Number of items in valid:  43640\n",
      "Number of customers in valid but not in train:  149025\n",
      "Number of items in valid but not in train:  10821\n",
      "train shape:  (8231156, 6)\n",
      "valid shape:  (4453834, 6)\n"
     ]
    }
   ],
   "source": [
    "# see how many 'customer_id' are common between the two datasets train and valid and also items 'article_id'\n",
    "common = set(train['customer_id']).intersection(set(valid['customer_id']))\n",
    "common_items = set(train['article_id']).intersection(set(valid['article_id']))\n",
    "print('Number of common customers between train and valid: ', len(common))\n",
    "print('Number of common items between train and valid: ', len(common_items))\n",
    "print('Number of customers in train: ', len(train['customer_id'].unique()))\n",
    "print('Number of customers in valid: ', len(valid['customer_id'].unique()))\n",
    "print('Number of items in train: ', len(train['article_id'].unique()))\n",
    "print('Number of items in valid: ', len(valid['article_id'].unique()))\n",
    "print('Number of customers in valid but not in train: ', len(set(valid['customer_id']) - set(train['customer_id'])))\n",
    "print('Number of items in valid but not in train: ', len(set(valid['article_id']) - set(train['article_id'])))\n",
    "print('train shape: ', train.shape)\n",
    "print('valid shape: ', valid.shape)"
   ]
  },
  {
   "cell_type": "code",
   "execution_count": 9,
   "metadata": {},
   "outputs": [
    {
     "name": "stdout",
     "output_type": "stream",
     "text": [
      "8231156 4453834\n"
     ]
    }
   ],
   "source": [
    "save_dir = os.path.join(config.data_processed_dir,'train.parquet')\n",
    "train.to_parquet(save_dir)\n",
    "\n",
    "save_dir = os.path.join(config.data_processed_dir,'valid.parquet')\n",
    "valid.to_parquet(save_dir)\n",
    "print(len(train), len(valid))\n",
    "del train, valid"
   ]
  },
  {
   "cell_type": "code",
   "execution_count": 10,
   "metadata": {},
   "outputs": [
    {
     "ename": "NameError",
     "evalue": "name 'ree' is not defined",
     "output_type": "error",
     "traceback": [
      "\u001b[0;31m---------------------------------------------------------------------------\u001b[0m",
      "\u001b[0;31mNameError\u001b[0m                                 Traceback (most recent call last)",
      "\u001b[1;32m/workspace/notebooks/00-skeleton.ipynb Cell 10\u001b[0m line \u001b[0;36m1\n\u001b[0;32m----> <a href='vscode-notebook-cell://attached-container%2B7b22636f6e7461696e65724e616d65223a222f72656373797332332d6d65726c696e2d31227d/workspace/notebooks/00-skeleton.ipynb#X25sdnNjb2RlLXJlbW90ZQ%3D%3D?line=0'>1</a>\u001b[0m ree\n",
      "\u001b[0;31mNameError\u001b[0m: name 'ree' is not defined"
     ]
    }
   ],
   "source": [
    "ree"
   ]
  },
  {
   "cell_type": "code",
   "execution_count": null,
   "metadata": {},
   "outputs": [],
   "source": [
    "train = nvt.Dataset(os.path.join(config.data_processed_dir,'train', 'transactions.parquet'),engine=\"parquet\",  part_mem_fraction=0.1)\n",
    "valid = nvt.Dataset(os.path.join(config.data_processed_dir,'valid', 'transactions.parquet'),engine=\"parquet\", part_mem_fraction=0.1)"
   ]
  },
  {
   "cell_type": "code",
   "execution_count": null,
   "metadata": {},
   "outputs": [],
   "source": [
    "article_id = [\"article_id\"] >> Categorify() >> TagAsItemID()\n",
    "customer_id = [\"customer_id\"] >> Categorify() >> TagAsUserID()\n",
    "price = [\"price\"] >> FillMissing(fill_val=0) >> Normalize() >> TagAsItemFeatures()\n",
    "len_session = [\"price\"] >> FillMissing(fill_val=0) >> Normalize() >> TagAsUserFeatures()\n",
    "\n",
    "\n",
    "features = article_id + customer_id + price + len_session\n",
    "\n",
    "wf = nvt.Workflow(features)\n",
    "wf.fit_transform(train).to_parquet(os.path.join(config.data_processed_dir, 'train_processed.parquet'))\n",
    "wf.transform(valid).to_parquet(os.path.join(config.data_processed_dir, 'validation_processed.parquet'))\n",
    "\n",
    "wf.save(os.path.join(config.data_processed_dir, 'workflow'))"
   ]
  },
  {
   "cell_type": "code",
   "execution_count": null,
   "metadata": {},
   "outputs": [],
   "source": [
    "train = Dataset(os.path.join(config.data_processed_dir, 'train_processed.parquet'))\n",
    "valid = Dataset(os.path.join(config.data_processed_dir, 'validation_processed.parquet'))\n",
    "schema = train.schema\n",
    "\n",
    "ColumnSelector = nvt.ColumnSelector"
   ]
  },
  {
   "cell_type": "code",
   "execution_count": null,
   "metadata": {},
   "outputs": [
    {
     "data": {
      "image/svg+xml": [
       "<?xml version=\"1.0\" encoding=\"UTF-8\" standalone=\"no\"?>\n",
       "<!DOCTYPE svg PUBLIC \"-//W3C//DTD SVG 1.1//EN\"\n",
       " \"http://www.w3.org/Graphics/SVG/1.1/DTD/svg11.dtd\">\n",
       "<!-- Generated by graphviz version 2.43.0 (0)\n",
       " -->\n",
       "<!-- Title: %3 Pages: 1 -->\n",
       "<svg width=\"1570pt\" height=\"476pt\"\n",
       " viewBox=\"0.00 0.00 1570.44 476.00\" xmlns=\"http://www.w3.org/2000/svg\" xmlns:xlink=\"http://www.w3.org/1999/xlink\">\n",
       "<g id=\"graph0\" class=\"graph\" transform=\"scale(1 1) rotate(0) translate(4 472)\">\n",
       "<title>%3</title>\n",
       "<polygon fill=\"white\" stroke=\"transparent\" points=\"-4,4 -4,-472 1566.44,-472 1566.44,4 -4,4\"/>\n",
       "<!-- 0 -->\n",
       "<g id=\"node1\" class=\"node\">\n",
       "<title>0</title>\n",
       "<ellipse fill=\"none\" stroke=\"black\" cx=\"1451.29\" cy=\"-306\" rx=\"62.29\" ry=\"18\"/>\n",
       "<text text-anchor=\"middle\" x=\"1451.29\" y=\"-302.3\" font-family=\"Times,serif\" font-size=\"14.00\">FillMissing</text>\n",
       "</g>\n",
       "<!-- 6 -->\n",
       "<g id=\"node16\" class=\"node\">\n",
       "<title>6</title>\n",
       "<ellipse fill=\"none\" stroke=\"black\" cx=\"1388.29\" cy=\"-234\" rx=\"58.49\" ry=\"18\"/>\n",
       "<text text-anchor=\"middle\" x=\"1388.29\" y=\"-230.3\" font-family=\"Times,serif\" font-size=\"14.00\">Normalize</text>\n",
       "</g>\n",
       "<!-- 0&#45;&gt;6 -->\n",
       "<g id=\"edge11\" class=\"edge\">\n",
       "<title>0&#45;&gt;6</title>\n",
       "<path fill=\"none\" stroke=\"black\" d=\"M1436.36,-288.41C1428.44,-279.61 1418.56,-268.63 1409.82,-258.92\"/>\n",
       "<polygon fill=\"black\" stroke=\"black\" points=\"1412.41,-256.56 1403.12,-251.47 1407.2,-261.24 1412.41,-256.56\"/>\n",
       "</g>\n",
       "<!-- 11 -->\n",
       "<g id=\"node2\" class=\"node\">\n",
       "<title>11</title>\n",
       "<ellipse fill=\"none\" stroke=\"black\" cx=\"1385.29\" cy=\"-378\" rx=\"66.89\" ry=\"18\"/>\n",
       "<text text-anchor=\"middle\" x=\"1385.29\" y=\"-374.3\" font-family=\"Times,serif\" font-size=\"14.00\">SelectionOp</text>\n",
       "</g>\n",
       "<!-- 11&#45;&gt;0 -->\n",
       "<g id=\"edge1\" class=\"edge\">\n",
       "<title>11&#45;&gt;0</title>\n",
       "<path fill=\"none\" stroke=\"black\" d=\"M1400.93,-360.41C1409.24,-351.61 1419.59,-340.63 1428.74,-330.92\"/>\n",
       "<polygon fill=\"black\" stroke=\"black\" points=\"1431.45,-333.15 1435.76,-323.47 1426.36,-328.34 1431.45,-333.15\"/>\n",
       "</g>\n",
       "<!-- 0_selector -->\n",
       "<g id=\"node3\" class=\"node\">\n",
       "<title>0_selector</title>\n",
       "<ellipse fill=\"none\" stroke=\"black\" cx=\"1516.29\" cy=\"-378\" rx=\"46.29\" ry=\"18\"/>\n",
       "<text text-anchor=\"middle\" x=\"1516.29\" y=\"-374.3\" font-family=\"Times,serif\" font-size=\"14.00\">[&#39;price&#39;]</text>\n",
       "</g>\n",
       "<!-- 0_selector&#45;&gt;0 -->\n",
       "<g id=\"edge2\" class=\"edge\">\n",
       "<title>0_selector&#45;&gt;0</title>\n",
       "<path fill=\"none\" stroke=\"black\" d=\"M1501.22,-360.76C1493.05,-351.97 1482.8,-340.93 1473.71,-331.14\"/>\n",
       "<polygon fill=\"black\" stroke=\"black\" points=\"1476.11,-328.58 1466.74,-323.63 1470.98,-333.34 1476.11,-328.58\"/>\n",
       "</g>\n",
       "<!-- 1 -->\n",
       "<g id=\"node4\" class=\"node\">\n",
       "<title>1</title>\n",
       "<ellipse fill=\"none\" stroke=\"black\" cx=\"381.29\" cy=\"-162\" rx=\"71.49\" ry=\"18\"/>\n",
       "<text text-anchor=\"middle\" x=\"381.29\" y=\"-158.3\" font-family=\"Times,serif\" font-size=\"14.00\">TagAsUserID</text>\n",
       "</g>\n",
       "<!-- 7 -->\n",
       "<g id=\"node18\" class=\"node\">\n",
       "<title>7</title>\n",
       "<ellipse fill=\"none\" stroke=\"black\" cx=\"784.29\" cy=\"-90\" rx=\"27\" ry=\"18\"/>\n",
       "<text text-anchor=\"middle\" x=\"784.29\" y=\"-86.3\" font-family=\"Times,serif\" font-size=\"14.00\">+</text>\n",
       "</g>\n",
       "<!-- 1&#45;&gt;7 -->\n",
       "<g id=\"edge14\" class=\"edge\">\n",
       "<title>1&#45;&gt;7</title>\n",
       "<path fill=\"none\" stroke=\"black\" d=\"M438.61,-151.05C522.94,-136.4 678.03,-109.46 748.16,-97.28\"/>\n",
       "<polygon fill=\"black\" stroke=\"black\" points=\"749.02,-100.68 758.27,-95.52 747.82,-93.78 749.02,-100.68\"/>\n",
       "</g>\n",
       "<!-- 9 -->\n",
       "<g id=\"node5\" class=\"node\">\n",
       "<title>9</title>\n",
       "<ellipse fill=\"none\" stroke=\"black\" cx=\"224.29\" cy=\"-234\" rx=\"59.59\" ry=\"18\"/>\n",
       "<text text-anchor=\"middle\" x=\"224.29\" y=\"-230.3\" font-family=\"Times,serif\" font-size=\"14.00\">Categorify</text>\n",
       "</g>\n",
       "<!-- 9&#45;&gt;1 -->\n",
       "<g id=\"edge3\" class=\"edge\">\n",
       "<title>9&#45;&gt;1</title>\n",
       "<path fill=\"none\" stroke=\"black\" d=\"M256.44,-218.67C280.17,-208.09 312.71,-193.58 338.61,-182.03\"/>\n",
       "<polygon fill=\"black\" stroke=\"black\" points=\"340.12,-185.19 347.83,-177.92 337.27,-178.79 340.12,-185.19\"/>\n",
       "</g>\n",
       "<!-- 1_selector -->\n",
       "<g id=\"node6\" class=\"node\">\n",
       "<title>1_selector</title>\n",
       "<ellipse fill=\"none\" stroke=\"black\" cx=\"381.29\" cy=\"-234\" rx=\"79.09\" ry=\"18\"/>\n",
       "<text text-anchor=\"middle\" x=\"381.29\" y=\"-230.3\" font-family=\"Times,serif\" font-size=\"14.00\">[&#39;customer_id&#39;]</text>\n",
       "</g>\n",
       "<!-- 1_selector&#45;&gt;1 -->\n",
       "<g id=\"edge4\" class=\"edge\">\n",
       "<title>1_selector&#45;&gt;1</title>\n",
       "<path fill=\"none\" stroke=\"black\" d=\"M381.29,-215.7C381.29,-207.98 381.29,-198.71 381.29,-190.11\"/>\n",
       "<polygon fill=\"black\" stroke=\"black\" points=\"384.79,-190.1 381.29,-180.1 377.79,-190.1 384.79,-190.1\"/>\n",
       "</g>\n",
       "<!-- 2 -->\n",
       "<g id=\"node7\" class=\"node\">\n",
       "<title>2</title>\n",
       "<ellipse fill=\"none\" stroke=\"black\" cx=\"537.29\" cy=\"-234\" rx=\"58.49\" ry=\"18\"/>\n",
       "<text text-anchor=\"middle\" x=\"537.29\" y=\"-230.3\" font-family=\"Times,serif\" font-size=\"14.00\">Normalize</text>\n",
       "</g>\n",
       "<!-- 5 -->\n",
       "<g id=\"node14\" class=\"node\">\n",
       "<title>5</title>\n",
       "<ellipse fill=\"none\" stroke=\"black\" cx=\"594.29\" cy=\"-162\" rx=\"100.98\" ry=\"18\"/>\n",
       "<text text-anchor=\"middle\" x=\"594.29\" y=\"-158.3\" font-family=\"Times,serif\" font-size=\"14.00\">TagAsItemFeatures</text>\n",
       "</g>\n",
       "<!-- 2&#45;&gt;5 -->\n",
       "<g id=\"edge9\" class=\"edge\">\n",
       "<title>2&#45;&gt;5</title>\n",
       "<path fill=\"none\" stroke=\"black\" d=\"M550.8,-216.41C557.73,-207.91 566.3,-197.37 574.01,-187.91\"/>\n",
       "<polygon fill=\"black\" stroke=\"black\" points=\"576.89,-189.92 580.49,-179.96 571.46,-185.5 576.89,-189.92\"/>\n",
       "</g>\n",
       "<!-- 14 -->\n",
       "<g id=\"node8\" class=\"node\">\n",
       "<title>14</title>\n",
       "<ellipse fill=\"none\" stroke=\"black\" cx=\"474.29\" cy=\"-306\" rx=\"62.29\" ry=\"18\"/>\n",
       "<text text-anchor=\"middle\" x=\"474.29\" y=\"-302.3\" font-family=\"Times,serif\" font-size=\"14.00\">FillMissing</text>\n",
       "</g>\n",
       "<!-- 14&#45;&gt;2 -->\n",
       "<g id=\"edge5\" class=\"edge\">\n",
       "<title>14&#45;&gt;2</title>\n",
       "<path fill=\"none\" stroke=\"black\" d=\"M489.22,-288.41C497.15,-279.61 507.03,-268.63 515.77,-258.92\"/>\n",
       "<polygon fill=\"black\" stroke=\"black\" points=\"518.38,-261.24 522.47,-251.47 513.18,-256.56 518.38,-261.24\"/>\n",
       "</g>\n",
       "<!-- 2_selector -->\n",
       "<g id=\"node9\" class=\"node\">\n",
       "<title>2_selector</title>\n",
       "<ellipse fill=\"none\" stroke=\"black\" cx=\"601.29\" cy=\"-306\" rx=\"46.29\" ry=\"18\"/>\n",
       "<text text-anchor=\"middle\" x=\"601.29\" y=\"-302.3\" font-family=\"Times,serif\" font-size=\"14.00\">[&#39;price&#39;]</text>\n",
       "</g>\n",
       "<!-- 2_selector&#45;&gt;2 -->\n",
       "<g id=\"edge6\" class=\"edge\">\n",
       "<title>2_selector&#45;&gt;2</title>\n",
       "<path fill=\"none\" stroke=\"black\" d=\"M586.45,-288.76C578.41,-279.97 568.31,-268.93 559.37,-259.14\"/>\n",
       "<polygon fill=\"black\" stroke=\"black\" points=\"561.83,-256.65 552.5,-251.63 556.67,-261.38 561.83,-256.65\"/>\n",
       "</g>\n",
       "<!-- 3 -->\n",
       "<g id=\"node10\" class=\"node\">\n",
       "<title>3</title>\n",
       "<ellipse fill=\"none\" stroke=\"black\" cx=\"79.29\" cy=\"-306\" rx=\"66.89\" ry=\"18\"/>\n",
       "<text text-anchor=\"middle\" x=\"79.29\" y=\"-302.3\" font-family=\"Times,serif\" font-size=\"14.00\">SelectionOp</text>\n",
       "</g>\n",
       "<!-- 3&#45;&gt;9 -->\n",
       "<g id=\"edge20\" class=\"edge\">\n",
       "<title>3&#45;&gt;9</title>\n",
       "<path fill=\"none\" stroke=\"black\" d=\"M110.4,-289.98C132.05,-279.53 161.1,-265.51 184.45,-254.24\"/>\n",
       "<polygon fill=\"black\" stroke=\"black\" points=\"186.25,-257.25 193.74,-249.75 183.21,-250.95 186.25,-257.25\"/>\n",
       "</g>\n",
       "<!-- 3_selector -->\n",
       "<g id=\"node11\" class=\"node\">\n",
       "<title>3_selector</title>\n",
       "<ellipse fill=\"none\" stroke=\"black\" cx=\"79.29\" cy=\"-378\" rx=\"79.09\" ry=\"18\"/>\n",
       "<text text-anchor=\"middle\" x=\"79.29\" y=\"-374.3\" font-family=\"Times,serif\" font-size=\"14.00\">[&#39;customer_id&#39;]</text>\n",
       "</g>\n",
       "<!-- 3_selector&#45;&gt;3 -->\n",
       "<g id=\"edge7\" class=\"edge\">\n",
       "<title>3_selector&#45;&gt;3</title>\n",
       "<path fill=\"none\" stroke=\"black\" d=\"M79.29,-359.7C79.29,-351.98 79.29,-342.71 79.29,-334.11\"/>\n",
       "<polygon fill=\"black\" stroke=\"black\" points=\"82.79,-334.1 79.29,-324.1 75.79,-334.1 82.79,-334.1\"/>\n",
       "</g>\n",
       "<!-- 4 -->\n",
       "<g id=\"node12\" class=\"node\">\n",
       "<title>4</title>\n",
       "<ellipse fill=\"none\" stroke=\"black\" cx=\"765.29\" cy=\"-306\" rx=\"66.89\" ry=\"18\"/>\n",
       "<text text-anchor=\"middle\" x=\"765.29\" y=\"-302.3\" font-family=\"Times,serif\" font-size=\"14.00\">SelectionOp</text>\n",
       "</g>\n",
       "<!-- 8 -->\n",
       "<g id=\"node22\" class=\"node\">\n",
       "<title>8</title>\n",
       "<ellipse fill=\"none\" stroke=\"black\" cx=\"784.29\" cy=\"-234\" rx=\"59.59\" ry=\"18\"/>\n",
       "<text text-anchor=\"middle\" x=\"784.29\" y=\"-230.3\" font-family=\"Times,serif\" font-size=\"14.00\">Categorify</text>\n",
       "</g>\n",
       "<!-- 4&#45;&gt;8 -->\n",
       "<g id=\"edge18\" class=\"edge\">\n",
       "<title>4&#45;&gt;8</title>\n",
       "<path fill=\"none\" stroke=\"black\" d=\"M769.99,-287.7C772.11,-279.9 774.65,-270.51 777.01,-261.83\"/>\n",
       "<polygon fill=\"black\" stroke=\"black\" points=\"780.41,-262.67 779.65,-252.1 773.65,-260.84 780.41,-262.67\"/>\n",
       "</g>\n",
       "<!-- 4_selector -->\n",
       "<g id=\"node13\" class=\"node\">\n",
       "<title>4_selector</title>\n",
       "<ellipse fill=\"none\" stroke=\"black\" cx=\"765.29\" cy=\"-378\" rx=\"65.79\" ry=\"18\"/>\n",
       "<text text-anchor=\"middle\" x=\"765.29\" y=\"-374.3\" font-family=\"Times,serif\" font-size=\"14.00\">[&#39;article_id&#39;]</text>\n",
       "</g>\n",
       "<!-- 4_selector&#45;&gt;4 -->\n",
       "<g id=\"edge8\" class=\"edge\">\n",
       "<title>4_selector&#45;&gt;4</title>\n",
       "<path fill=\"none\" stroke=\"black\" d=\"M765.29,-359.7C765.29,-351.98 765.29,-342.71 765.29,-334.11\"/>\n",
       "<polygon fill=\"black\" stroke=\"black\" points=\"768.79,-334.1 765.29,-324.1 761.79,-334.1 768.79,-334.1\"/>\n",
       "</g>\n",
       "<!-- 5&#45;&gt;7 -->\n",
       "<g id=\"edge15\" class=\"edge\">\n",
       "<title>5&#45;&gt;7</title>\n",
       "<path fill=\"none\" stroke=\"black\" d=\"M636.46,-145.46C671.19,-132.67 719.72,-114.79 751.57,-103.06\"/>\n",
       "<polygon fill=\"black\" stroke=\"black\" points=\"753.11,-106.22 761.28,-99.48 750.69,-99.65 753.11,-106.22\"/>\n",
       "</g>\n",
       "<!-- 5_selector -->\n",
       "<g id=\"node15\" class=\"node\">\n",
       "<title>5_selector</title>\n",
       "<ellipse fill=\"none\" stroke=\"black\" cx=\"660.29\" cy=\"-234\" rx=\"46.29\" ry=\"18\"/>\n",
       "<text text-anchor=\"middle\" x=\"660.29\" y=\"-230.3\" font-family=\"Times,serif\" font-size=\"14.00\">[&#39;price&#39;]</text>\n",
       "</g>\n",
       "<!-- 5_selector&#45;&gt;5 -->\n",
       "<g id=\"edge10\" class=\"edge\">\n",
       "<title>5_selector&#45;&gt;5</title>\n",
       "<path fill=\"none\" stroke=\"black\" d=\"M644.99,-216.76C636.81,-208.1 626.58,-197.25 617.46,-187.57\"/>\n",
       "<polygon fill=\"black\" stroke=\"black\" points=\"619.85,-185 610.44,-180.12 614.75,-189.8 619.85,-185\"/>\n",
       "</g>\n",
       "<!-- 12 -->\n",
       "<g id=\"node20\" class=\"node\">\n",
       "<title>12</title>\n",
       "<ellipse fill=\"none\" stroke=\"black\" cx=\"1327.29\" cy=\"-162\" rx=\"102.08\" ry=\"18\"/>\n",
       "<text text-anchor=\"middle\" x=\"1327.29\" y=\"-158.3\" font-family=\"Times,serif\" font-size=\"14.00\">TagAsUserFeatures</text>\n",
       "</g>\n",
       "<!-- 6&#45;&gt;12 -->\n",
       "<g id=\"edge24\" class=\"edge\">\n",
       "<title>6&#45;&gt;12</title>\n",
       "<path fill=\"none\" stroke=\"black\" d=\"M1373.84,-216.41C1366.35,-207.82 1357.06,-197.16 1348.75,-187.63\"/>\n",
       "<polygon fill=\"black\" stroke=\"black\" points=\"1351.28,-185.2 1342.07,-179.96 1346,-189.79 1351.28,-185.2\"/>\n",
       "</g>\n",
       "<!-- 6_selector -->\n",
       "<g id=\"node17\" class=\"node\">\n",
       "<title>6_selector</title>\n",
       "<ellipse fill=\"none\" stroke=\"black\" cx=\"1324.29\" cy=\"-306\" rx=\"46.29\" ry=\"18\"/>\n",
       "<text text-anchor=\"middle\" x=\"1324.29\" y=\"-302.3\" font-family=\"Times,serif\" font-size=\"14.00\">[&#39;price&#39;]</text>\n",
       "</g>\n",
       "<!-- 6_selector&#45;&gt;6 -->\n",
       "<g id=\"edge12\" class=\"edge\">\n",
       "<title>6_selector&#45;&gt;6</title>\n",
       "<path fill=\"none\" stroke=\"black\" d=\"M1339.14,-288.76C1347.18,-279.97 1357.27,-268.93 1366.22,-259.14\"/>\n",
       "<polygon fill=\"black\" stroke=\"black\" points=\"1368.92,-261.38 1373.09,-251.63 1363.75,-256.65 1368.92,-261.38\"/>\n",
       "</g>\n",
       "<!-- 15 -->\n",
       "<g id=\"node31\" class=\"node\">\n",
       "<title>15</title>\n",
       "<ellipse fill=\"none\" stroke=\"black\" cx=\"784.29\" cy=\"-18\" rx=\"211.76\" ry=\"18\"/>\n",
       "<text text-anchor=\"middle\" x=\"784.29\" y=\"-14.3\" font-family=\"Times,serif\" font-size=\"14.00\">output cols=[article_id, customer_id, price]</text>\n",
       "</g>\n",
       "<!-- 7&#45;&gt;15 -->\n",
       "<g id=\"edge30\" class=\"edge\">\n",
       "<title>7&#45;&gt;15</title>\n",
       "<path fill=\"none\" stroke=\"black\" d=\"M784.29,-71.7C784.29,-63.98 784.29,-54.71 784.29,-46.11\"/>\n",
       "<polygon fill=\"black\" stroke=\"black\" points=\"787.79,-46.1 784.29,-36.1 780.79,-46.1 787.79,-46.1\"/>\n",
       "</g>\n",
       "<!-- 13 -->\n",
       "<g id=\"node19\" class=\"node\">\n",
       "<title>13</title>\n",
       "<ellipse fill=\"none\" stroke=\"black\" cx=\"784.29\" cy=\"-162\" rx=\"70.69\" ry=\"18\"/>\n",
       "<text text-anchor=\"middle\" x=\"784.29\" y=\"-158.3\" font-family=\"Times,serif\" font-size=\"14.00\">TagAsItemID</text>\n",
       "</g>\n",
       "<!-- 13&#45;&gt;7 -->\n",
       "<g id=\"edge13\" class=\"edge\">\n",
       "<title>13&#45;&gt;7</title>\n",
       "<path fill=\"none\" stroke=\"black\" d=\"M784.29,-143.7C784.29,-135.98 784.29,-126.71 784.29,-118.11\"/>\n",
       "<polygon fill=\"black\" stroke=\"black\" points=\"787.79,-118.1 784.29,-108.1 780.79,-118.1 787.79,-118.1\"/>\n",
       "</g>\n",
       "<!-- 12&#45;&gt;7 -->\n",
       "<g id=\"edge16\" class=\"edge\">\n",
       "<title>12&#45;&gt;7</title>\n",
       "<path fill=\"none\" stroke=\"black\" d=\"M1253.9,-149.44C1241.36,-147.56 1228.46,-145.68 1216.29,-144 1070.39,-123.88 896.23,-103.67 821.42,-95.18\"/>\n",
       "<polygon fill=\"black\" stroke=\"black\" points=\"821.45,-91.66 811.12,-94.01 820.67,-98.61 821.45,-91.66\"/>\n",
       "</g>\n",
       "<!-- 7_selector -->\n",
       "<g id=\"node21\" class=\"node\">\n",
       "<title>7_selector</title>\n",
       "<ellipse fill=\"none\" stroke=\"black\" cx=\"1040.29\" cy=\"-162\" rx=\"167.07\" ry=\"18\"/>\n",
       "<text text-anchor=\"middle\" x=\"1040.29\" y=\"-158.3\" font-family=\"Times,serif\" font-size=\"14.00\">[&#39;article_id&#39;, &#39;customer_id&#39;, &#39;price&#39;]</text>\n",
       "</g>\n",
       "<!-- 7_selector&#45;&gt;7 -->\n",
       "<g id=\"edge17\" class=\"edge\">\n",
       "<title>7_selector&#45;&gt;7</title>\n",
       "<path fill=\"none\" stroke=\"black\" d=\"M982.2,-145.12C931.78,-131.33 860.47,-111.83 818.64,-100.39\"/>\n",
       "<polygon fill=\"black\" stroke=\"black\" points=\"819.49,-97 808.92,-97.73 817.65,-103.75 819.49,-97\"/>\n",
       "</g>\n",
       "<!-- 8&#45;&gt;13 -->\n",
       "<g id=\"edge26\" class=\"edge\">\n",
       "<title>8&#45;&gt;13</title>\n",
       "<path fill=\"none\" stroke=\"black\" d=\"M784.29,-215.7C784.29,-207.98 784.29,-198.71 784.29,-190.11\"/>\n",
       "<polygon fill=\"black\" stroke=\"black\" points=\"787.79,-190.1 784.29,-180.1 780.79,-190.1 787.79,-190.1\"/>\n",
       "</g>\n",
       "<!-- 8_selector -->\n",
       "<g id=\"node23\" class=\"node\">\n",
       "<title>8_selector</title>\n",
       "<ellipse fill=\"none\" stroke=\"black\" cx=\"916.29\" cy=\"-306\" rx=\"65.79\" ry=\"18\"/>\n",
       "<text text-anchor=\"middle\" x=\"916.29\" y=\"-302.3\" font-family=\"Times,serif\" font-size=\"14.00\">[&#39;article_id&#39;]</text>\n",
       "</g>\n",
       "<!-- 8_selector&#45;&gt;8 -->\n",
       "<g id=\"edge19\" class=\"edge\">\n",
       "<title>8_selector&#45;&gt;8</title>\n",
       "<path fill=\"none\" stroke=\"black\" d=\"M887.33,-289.64C868.02,-279.4 842.47,-265.85 821.64,-254.81\"/>\n",
       "<polygon fill=\"black\" stroke=\"black\" points=\"823.21,-251.68 812.74,-250.09 819.93,-257.86 823.21,-251.68\"/>\n",
       "</g>\n",
       "<!-- 9_selector -->\n",
       "<g id=\"node24\" class=\"node\">\n",
       "<title>9_selector</title>\n",
       "<ellipse fill=\"none\" stroke=\"black\" cx=\"243.29\" cy=\"-306\" rx=\"79.09\" ry=\"18\"/>\n",
       "<text text-anchor=\"middle\" x=\"243.29\" y=\"-302.3\" font-family=\"Times,serif\" font-size=\"14.00\">[&#39;customer_id&#39;]</text>\n",
       "</g>\n",
       "<!-- 9_selector&#45;&gt;9 -->\n",
       "<g id=\"edge21\" class=\"edge\">\n",
       "<title>9_selector&#45;&gt;9</title>\n",
       "<path fill=\"none\" stroke=\"black\" d=\"M238.6,-287.7C236.48,-279.9 233.93,-270.51 231.58,-261.83\"/>\n",
       "<polygon fill=\"black\" stroke=\"black\" points=\"234.93,-260.84 228.94,-252.1 228.18,-262.67 234.93,-260.84\"/>\n",
       "</g>\n",
       "<!-- 10 -->\n",
       "<g id=\"node25\" class=\"node\">\n",
       "<title>10</title>\n",
       "<ellipse fill=\"none\" stroke=\"black\" cx=\"440.29\" cy=\"-378\" rx=\"66.89\" ry=\"18\"/>\n",
       "<text text-anchor=\"middle\" x=\"440.29\" y=\"-374.3\" font-family=\"Times,serif\" font-size=\"14.00\">SelectionOp</text>\n",
       "</g>\n",
       "<!-- 10&#45;&gt;14 -->\n",
       "<g id=\"edge28\" class=\"edge\">\n",
       "<title>10&#45;&gt;14</title>\n",
       "<path fill=\"none\" stroke=\"black\" d=\"M448.52,-360.05C452.39,-352.09 457.09,-342.41 461.42,-333.51\"/>\n",
       "<polygon fill=\"black\" stroke=\"black\" points=\"464.68,-334.8 465.9,-324.28 458.38,-331.74 464.68,-334.8\"/>\n",
       "</g>\n",
       "<!-- 10_selector -->\n",
       "<g id=\"node26\" class=\"node\">\n",
       "<title>10_selector</title>\n",
       "<ellipse fill=\"none\" stroke=\"black\" cx=\"440.29\" cy=\"-450\" rx=\"46.29\" ry=\"18\"/>\n",
       "<text text-anchor=\"middle\" x=\"440.29\" y=\"-446.3\" font-family=\"Times,serif\" font-size=\"14.00\">[&#39;price&#39;]</text>\n",
       "</g>\n",
       "<!-- 10_selector&#45;&gt;10 -->\n",
       "<g id=\"edge22\" class=\"edge\">\n",
       "<title>10_selector&#45;&gt;10</title>\n",
       "<path fill=\"none\" stroke=\"black\" d=\"M440.29,-431.7C440.29,-423.98 440.29,-414.71 440.29,-406.11\"/>\n",
       "<polygon fill=\"black\" stroke=\"black\" points=\"443.79,-406.1 440.29,-396.1 436.79,-406.1 443.79,-406.1\"/>\n",
       "</g>\n",
       "<!-- 11_selector -->\n",
       "<g id=\"node27\" class=\"node\">\n",
       "<title>11_selector</title>\n",
       "<ellipse fill=\"none\" stroke=\"black\" cx=\"1385.29\" cy=\"-450\" rx=\"46.29\" ry=\"18\"/>\n",
       "<text text-anchor=\"middle\" x=\"1385.29\" y=\"-446.3\" font-family=\"Times,serif\" font-size=\"14.00\">[&#39;price&#39;]</text>\n",
       "</g>\n",
       "<!-- 11_selector&#45;&gt;11 -->\n",
       "<g id=\"edge23\" class=\"edge\">\n",
       "<title>11_selector&#45;&gt;11</title>\n",
       "<path fill=\"none\" stroke=\"black\" d=\"M1385.29,-431.7C1385.29,-423.98 1385.29,-414.71 1385.29,-406.11\"/>\n",
       "<polygon fill=\"black\" stroke=\"black\" points=\"1388.79,-406.1 1385.29,-396.1 1381.79,-406.1 1388.79,-406.1\"/>\n",
       "</g>\n",
       "<!-- 12_selector -->\n",
       "<g id=\"node28\" class=\"node\">\n",
       "<title>12_selector</title>\n",
       "<ellipse fill=\"none\" stroke=\"black\" cx=\"1265.29\" cy=\"-234\" rx=\"46.29\" ry=\"18\"/>\n",
       "<text text-anchor=\"middle\" x=\"1265.29\" y=\"-230.3\" font-family=\"Times,serif\" font-size=\"14.00\">[&#39;price&#39;]</text>\n",
       "</g>\n",
       "<!-- 12_selector&#45;&gt;12 -->\n",
       "<g id=\"edge25\" class=\"edge\">\n",
       "<title>12_selector&#45;&gt;12</title>\n",
       "<path fill=\"none\" stroke=\"black\" d=\"M1279.67,-216.76C1287.27,-208.18 1296.77,-197.46 1305.28,-187.86\"/>\n",
       "<polygon fill=\"black\" stroke=\"black\" points=\"1308.12,-189.93 1312.13,-180.12 1302.88,-185.29 1308.12,-189.93\"/>\n",
       "</g>\n",
       "<!-- 13_selector -->\n",
       "<g id=\"node29\" class=\"node\">\n",
       "<title>13_selector</title>\n",
       "<ellipse fill=\"none\" stroke=\"black\" cx=\"927.29\" cy=\"-234\" rx=\"65.79\" ry=\"18\"/>\n",
       "<text text-anchor=\"middle\" x=\"927.29\" y=\"-230.3\" font-family=\"Times,serif\" font-size=\"14.00\">[&#39;article_id&#39;]</text>\n",
       "</g>\n",
       "<!-- 13_selector&#45;&gt;13 -->\n",
       "<g id=\"edge27\" class=\"edge\">\n",
       "<title>13_selector&#45;&gt;13</title>\n",
       "<path fill=\"none\" stroke=\"black\" d=\"M896.62,-217.98C875.55,-207.67 847.39,-193.88 824.53,-182.69\"/>\n",
       "<polygon fill=\"black\" stroke=\"black\" points=\"825.93,-179.49 815.41,-178.23 822.86,-185.77 825.93,-179.49\"/>\n",
       "</g>\n",
       "<!-- 14_selector -->\n",
       "<g id=\"node30\" class=\"node\">\n",
       "<title>14_selector</title>\n",
       "<ellipse fill=\"none\" stroke=\"black\" cx=\"571.29\" cy=\"-378\" rx=\"46.29\" ry=\"18\"/>\n",
       "<text text-anchor=\"middle\" x=\"571.29\" y=\"-374.3\" font-family=\"Times,serif\" font-size=\"14.00\">[&#39;price&#39;]</text>\n",
       "</g>\n",
       "<!-- 14_selector&#45;&gt;14 -->\n",
       "<g id=\"edge29\" class=\"edge\">\n",
       "<title>14_selector&#45;&gt;14</title>\n",
       "<path fill=\"none\" stroke=\"black\" d=\"M550.25,-361.81C536.92,-352.2 519.48,-339.61 504.67,-328.92\"/>\n",
       "<polygon fill=\"black\" stroke=\"black\" points=\"506.47,-325.9 496.31,-322.89 502.37,-331.58 506.47,-325.9\"/>\n",
       "</g>\n",
       "</g>\n",
       "</svg>\n"
      ],
      "text/plain": [
       "<graphviz.graphs.Digraph at 0x7f037e5f5190>"
      ]
     },
     "execution_count": 18,
     "metadata": {},
     "output_type": "execute_result"
    }
   ],
   "source": [
    "features.graph"
   ]
  },
  {
   "cell_type": "code",
   "execution_count": null,
   "metadata": {},
   "outputs": [
    {
     "data": {
      "text/plain": [
       "[]"
      ]
     },
     "execution_count": 19,
     "metadata": {},
     "output_type": "execute_result"
    }
   ],
   "source": [
    "schema = schema.select_by_tag([Tags.ITEM_ID, Tags.USER_ID, Tags.ITEM, Tags.USER])\n",
    "label_names = schema.select_by_tag(Tags.TARGET).column_names\n",
    "label_names"
   ]
  },
  {
   "cell_type": "code",
   "execution_count": null,
   "metadata": {},
   "outputs": [],
   "source": [
    "model = mm.TwoTowerModel(\n",
    "    schema,\n",
    "    query_tower=mm.MLPBlock([512, 256, 128, 64], no_activation_last_layer=True),\n",
    "    samplers=[mm.InBatchSampler()],\n",
    "    embedding_options=mm.EmbeddingOptions(infer_embedding_sizes=True),\n",
    ")"
   ]
  },
  {
   "cell_type": "code",
   "execution_count": null,
   "metadata": {},
   "outputs": [
    {
     "name": "stdout",
     "output_type": "stream",
     "text": [
      "Epoch 1/2\n"
     ]
    },
    {
     "name": "stderr",
     "output_type": "stream",
     "text": [
      "2023-08-07 11:20:16.236842: I tensorflow/core/common_runtime/executor.cc:1209] [/device:CPU:0] (DEBUG INFO) Executor start aborting (this does not indicate an error and you can ignore this message): INVALID_ARGUMENT: You must feed a value for placeholder tensor 'Placeholder/_0' with dtype int32\n",
      "\t [[{{node Placeholder/_0}}]]\n"
     ]
    },
    {
     "name": "stdout",
     "output_type": "stream",
     "text": [
      "2057/2058 [============================>.] - ETA: 0s - loss: 5.1975 - recall_at_30: 0.3646 - ndcg_at_30: 0.1264 - regularization_loss: 0.0000e+00 - loss_batch: 5.1975"
     ]
    },
    {
     "name": "stderr",
     "output_type": "stream",
     "text": [
      "2023-08-07 11:21:35.759378: I tensorflow/core/common_runtime/executor.cc:1209] [/device:CPU:0] (DEBUG INFO) Executor start aborting (this does not indicate an error and you can ignore this message): INVALID_ARGUMENT: You must feed a value for placeholder tensor 'Placeholder/_0' with dtype int32\n",
      "\t [[{{node Placeholder/_0}}]]\n"
     ]
    },
    {
     "name": "stdout",
     "output_type": "stream",
     "text": [
      "2058/2058 [==============================] - 92s 44ms/step - loss: 5.1974 - recall_at_30: 0.3647 - ndcg_at_30: 0.1264 - regularization_loss: 0.0000e+00 - loss_batch: 5.1972 - val_loss: 5.1880 - val_recall_at_30: 0.3571 - val_ndcg_at_30: 0.1324 - val_regularization_loss: 0.0000e+00 - val_loss_batch: 4.3999\n",
      "Epoch 2/2\n",
      "2058/2058 [==============================] - 91s 44ms/step - loss: 5.1130 - recall_at_30: 0.4098 - ndcg_at_30: 0.1469 - regularization_loss: 0.0000e+00 - loss_batch: 5.1127 - val_loss: 4.9908 - val_recall_at_30: 0.3750 - val_ndcg_at_30: 0.1420 - val_regularization_loss: 0.0000e+00 - val_loss_batch: 4.0074\n"
     ]
    }
   ],
   "source": [
    "model.compile(optimizer=\"adam\", run_eagerly=False, metrics=[mm.RecallAt(30), mm.NDCGAt(30)])\n",
    "ree = model.fit(train, validation_data=valid, batch_size=4000, epochs=2)"
   ]
  },
  {
   "cell_type": "code",
   "execution_count": null,
   "metadata": {},
   "outputs": [
    {
     "data": {
      "text/plain": [
       "{'loss': [5.197389125823975, 5.113049030303955],\n",
       " 'recall_at_30': [0.3891133964061737, 0.41745230555534363],\n",
       " 'ndcg_at_30': [0.1365073323249817, 0.14985257387161255],\n",
       " 'regularization_loss': [0.0, 0.0],\n",
       " 'loss_batch': [4.951499938964844, 4.573450088500977],\n",
       " 'val_loss': [5.187994480133057, 4.990819931030273],\n",
       " 'val_recall_at_30': [0.3571337163448334, 0.37501850724220276],\n",
       " 'val_ndcg_at_30': [0.13236449658870697, 0.141963392496109],\n",
       " 'val_regularization_loss': [0.0, 0.0],\n",
       " 'val_loss_batch': [4.39992618560791, 4.00742769241333]}"
      ]
     },
     "execution_count": 41,
     "metadata": {},
     "output_type": "execute_result"
    }
   ],
   "source": [
    "ree.history\n"
   ]
  },
  {
   "cell_type": "code",
   "execution_count": null,
   "metadata": {},
   "outputs": [
    {
     "name": "stdout",
     "output_type": "stream",
     "text": [
      "  37/3707 [..............................] - ETA: 10s - loss: 3.5135 - recall_at_30: 0.7292 - ndcg_at_30: 0.3115 - regularization_loss: 0.0000e+00 - loss_batch: 3.5135"
     ]
    },
    {
     "name": "stderr",
     "output_type": "stream",
     "text": [
      "2023-08-07 11:31:44.128675: I tensorflow/core/common_runtime/executor.cc:1209] [/device:CPU:0] (DEBUG INFO) Executor start aborting (this does not indicate an error and you can ignore this message): INVALID_ARGUMENT: You must feed a value for placeholder tensor 'Placeholder/_0' with dtype int32\n",
      "\t [[{{node Placeholder/_0}}]]\n"
     ]
    },
    {
     "name": "stdout",
     "output_type": "stream",
     "text": [
      "3707/3707 [==============================] - 10s 3ms/step - loss: 3.6357 - recall_at_30: 0.6752 - ndcg_at_30: 0.2904 - regularization_loss: 0.0000e+00 - loss_batch: 3.6345\n"
     ]
    }
   ],
   "source": [
    "eval = model.evaluate(valid, batch_size=1000, return_dict=True)"
   ]
  },
  {
   "cell_type": "code",
   "execution_count": null,
   "metadata": {},
   "outputs": [
    {
     "data": {
      "text/plain": [
       "{'test_loss': 3.6357033252716064,\n",
       " 'test_recall_at_30': 0.6659395694732666,\n",
       " 'test_ndcg_at_30': 0.2925361692905426,\n",
       " 'test_regularization_loss': 0.0,\n",
       " 'test_loss_batch': 1.2351911067962646}"
      ]
     },
     "execution_count": 39,
     "metadata": {},
     "output_type": "execute_result"
    }
   ],
   "source": [
    "metrics"
   ]
  },
  {
   "cell_type": "code",
   "execution_count": null,
   "metadata": {},
   "outputs": [],
   "source": [
    "# rename keys of eval to have test prefix\n",
    "metrics = {}\n",
    "for key in eval.keys():\n",
    "    metrics['test_'+key] = eval[key]\n"
   ]
  },
  {
   "cell_type": "code",
   "execution_count": null,
   "metadata": {},
   "outputs": [
    {
     "name": "stdout",
     "output_type": "stream",
     "text": [
      "  34/3089 [..............................] - ETA: 9s - loss: 7.0239 - recall_at_30: 0.0353 - ndcg_at_30: 0.0112 - regularization_loss: 0.0000e+00 - loss_batch: 7.0239"
     ]
    },
    {
     "name": "stderr",
     "output_type": "stream",
     "text": [
      "2023-08-02 16:03:29.295270: I tensorflow/core/common_runtime/executor.cc:1209] [/device:CPU:0] (DEBUG INFO) Executor start aborting (this does not indicate an error and you can ignore this message): INVALID_ARGUMENT: You must feed a value for placeholder tensor 'Placeholder/_0' with dtype int32\n",
      "\t [[{{node Placeholder/_0}}]]\n"
     ]
    },
    {
     "name": "stdout",
     "output_type": "stream",
     "text": [
      "3089/3089 [==============================] - 9s 3ms/step - loss: 7.0094 - recall_at_30: 0.0374 - ndcg_at_30: 0.0119 - regularization_loss: 0.0000e+00 - loss_batch: 7.0092\n"
     ]
    },
    {
     "data": {
      "text/plain": [
       "{'loss': 7.009433269500732,\n",
       " 'recall_at_30': 0.03781740367412567,\n",
       " 'ndcg_at_30': 0.012081457301974297,\n",
       " 'regularization_loss': 0.0,\n",
       " 'loss_batch': 6.611358165740967}"
      ]
     },
     "execution_count": 43,
     "metadata": {},
     "output_type": "execute_result"
    }
   ],
   "source": [
    "model.evaluate(valid, batch_size=1000, return_dict=True)"
   ]
  },
  {
   "cell_type": "code",
   "execution_count": null,
   "metadata": {},
   "outputs": [],
   "source": []
  }
 ],
 "metadata": {
  "kernelspec": {
   "display_name": "Python 3 (ipykernel)",
   "language": "python",
   "name": "python3"
  },
  "language_info": {
   "codemirror_mode": {
    "name": "ipython",
    "version": 3
   },
   "file_extension": ".py",
   "mimetype": "text/x-python",
   "name": "python",
   "nbconvert_exporter": "python",
   "pygments_lexer": "ipython3",
   "version": "3.8.10"
  },
  "toc-autonumbering": true,
  "toc-showcode": false,
  "toc-showmarkdowntxt": false,
  "toc-showtags": false
 },
 "nbformat": 4,
 "nbformat_minor": 4
}
