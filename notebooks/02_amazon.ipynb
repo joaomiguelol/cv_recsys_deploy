{
 "cells": [
  {
   "cell_type": "code",
   "execution_count": 1,
   "metadata": {},
   "outputs": [],
   "source": [
    "# ignore warnings\n",
    "import warnings\n",
    "warnings.filterwarnings('ignore')\n",
    "import nvtabular as nvt\n",
    "import cudf\n",
    "import os\n",
    "from config import project_dir,data_dir_raw\n",
    "import pandas as pd\n",
    "import dask_cudf\n",
    "from nvtabular.ops import *\n",
    "\n",
    "from merlin.schema.tags import Tags\n",
    "from merlin.io.dataset import Dataset\n",
    "# files= os.listdir(os.path.join(project_dir, data_dir_raw,'amazon'))\n",
    "# for file in files:\n",
    "#     csv = cudf.read_csv(os.path.join(project_dir, data_dir_raw,'amazon',file))\n",
    "#     csv.to_parquet(os.path.join(project_dir, data_dir_raw,'amazon',file.replace('.csv','.parquet')))\n",
    "\n",
    "train_data_dir = os.path.join(project_dir, data_dir_raw,'amazon')\n",
    "test_data_dir = os.path.join(project_dir, data_dir_raw,'amazon')\n",
    "task = 'task1'\n",
    "PREDS_PER_SESSION = 100"
   ]
  },
  {
   "cell_type": "code",
   "execution_count": 2,
   "metadata": {},
   "outputs": [],
   "source": [
    "products = cudf.read_parquet(os.path.join(project_dir, data_dir_raw,'amazon','products_train.parquet'))\n",
    "test_sessions = cudf.read_parquet(os.path.join(project_dir, data_dir_raw,'amazon','sessions_test_task1.parquet'))\n",
    "train_sessions = cudf.read_parquet(os.path.join(project_dir, data_dir_raw,'amazon','sessions_train.parquet')) "
   ]
  },
  {
   "cell_type": "code",
   "execution_count": 3,
   "metadata": {},
   "outputs": [],
   "source": [
    "def str2list(x):\n",
    "    return eval(x.replace(' ',','))"
   ]
  },
  {
   "cell_type": "code",
   "execution_count": 4,
   "metadata": {},
   "outputs": [],
   "source": [
    "# explode the prev_items column, so that each row has one item but keep the order of the items in the session by creating an index column\n",
    "train_sessions.prev_items = train_sessions.prev_items.to_pandas().apply(str2list)\n",
    "train_sessions['id']= train_sessions.index\n",
    "train_sessions= train_sessions.explode('prev_items', ignore_index=True).sort_values('id')"
   ]
  },
  {
   "cell_type": "code",
   "execution_count": 11,
   "metadata": {},
   "outputs": [],
   "source": [
    "nunique = train_sessions.id.nunique() * 0.75\n",
    "train = train_sessions[train_sessions.id < int(nunique)]\n",
    "val = train_sessions[train_sessions.id >= int(nunique)]\n",
    "\n",
    "train.to_parquet(train_data_dir + '/train.parquet')\n",
    "val.to_parquet(train_data_dir + '/val.parquet')"
   ]
  },
  {
   "attachments": {},
   "cell_type": "markdown",
   "metadata": {},
   "source": [
    "START MODELING"
   ]
  },
  {
   "cell_type": "code",
   "execution_count": 2,
   "metadata": {},
   "outputs": [],
   "source": [
    "train = cudf.read_parquet(train_data_dir + '/train.parquet')\n",
    "val = cudf.read_parquet(train_data_dir + '/val.parquet')\n",
    "products = cudf.read_parquet(os.path.join(project_dir, data_dir_raw,'amazon','products_train.parquet'))\n",
    "products.rename(columns={'id':'prev_items'},inplace=True)\n",
    "train=train.loc[train.id < 1000]\n",
    "val=val.loc[val.id < 100]"
   ]
  },
  {
   "cell_type": "code",
   "execution_count": 3,
   "metadata": {},
   "outputs": [],
   "source": [
    "columns= ['prev_items',  'price', 'brand', 'color', 'size', 'model','material', 'author']\n",
    "train = train.merge(products[columns], how='left',on='prev_items')\n",
    "val = val.merge(products[columns], how='left',on='prev_items')\n",
    "del products"
   ]
  },
  {
   "cell_type": "code",
   "execution_count": 18,
   "metadata": {},
   "outputs": [],
   "source": [
    "columns = train.columns"
   ]
  },
  {
   "cell_type": "code",
   "execution_count": 4,
   "metadata": {},
   "outputs": [],
   "source": [
    "categorical = ['prev_items', 'next_item', 'locale', 'brand', 'color', 'model', 'material', 'author']\n",
    "numerical = ['price','size']"
   ]
  },
  {
   "cell_type": "code",
   "execution_count": 5,
   "metadata": {},
   "outputs": [],
   "source": [
    "categorical_list = [nvt.ColumnSchema(name=col, tags=[Tags.CATEGORICAL]) for col in categorical]\n",
    "categorical_processed = [categorical] >> Categorify()\n",
    "# numerical_list = [nvt.ColumnSchema(name=col, tags=[Tags.CONTINUOUS]) for col in numerical]\n",
    "# numerical_processed = [numerical] >> FillMissing() >> Clip(min_value=0) >> LogOp() >> Normalize() \n",
    "# processor = nvt.Workflow(categorical_processed + numerical_processed)\n",
    "# processor.fit(train, columns=categorical_list + numerical_list)"
   ]
  },
  {
   "cell_type": "code",
   "execution_count": 8,
   "metadata": {},
   "outputs": [
    {
     "ename": "AttributeError",
     "evalue": "DataFrame object has no attribute schema",
     "output_type": "error",
     "traceback": [
      "\u001b[0;31m---------------------------------------------------------------------------\u001b[0m",
      "\u001b[0;31mKeyError\u001b[0m                                  Traceback (most recent call last)",
      "File \u001b[0;32m~/.local/lib/python3.8/site-packages/cudf/utils/utils.py:273\u001b[0m, in \u001b[0;36mGetAttrGetItemMixin.__getattr__\u001b[0;34m(self, key)\u001b[0m\n\u001b[1;32m    272\u001b[0m \u001b[39mtry\u001b[39;00m:\n\u001b[0;32m--> 273\u001b[0m     \u001b[39mreturn\u001b[39;00m \u001b[39mself\u001b[39;49m[key]\n\u001b[1;32m    274\u001b[0m \u001b[39mexcept\u001b[39;00m \u001b[39mKeyError\u001b[39;00m:\n",
      "File \u001b[0;32m~/.local/lib/python3.8/site-packages/nvtx/nvtx.py:101\u001b[0m, in \u001b[0;36mannotate.__call__.<locals>.inner\u001b[0;34m(*args, **kwargs)\u001b[0m\n\u001b[1;32m    100\u001b[0m libnvtx_push_range(\u001b[39mself\u001b[39m\u001b[39m.\u001b[39mattributes, \u001b[39mself\u001b[39m\u001b[39m.\u001b[39mdomain\u001b[39m.\u001b[39mhandle)\n\u001b[0;32m--> 101\u001b[0m result \u001b[39m=\u001b[39m func(\u001b[39m*\u001b[39;49margs, \u001b[39m*\u001b[39;49m\u001b[39m*\u001b[39;49mkwargs)\n\u001b[1;32m    102\u001b[0m libnvtx_pop_range(\u001b[39mself\u001b[39m\u001b[39m.\u001b[39mdomain\u001b[39m.\u001b[39mhandle)\n",
      "File \u001b[0;32m~/.local/lib/python3.8/site-packages/cudf/core/dataframe.py:1158\u001b[0m, in \u001b[0;36mDataFrame.__getitem__\u001b[0;34m(self, arg)\u001b[0m\n\u001b[1;32m   1157\u001b[0m \u001b[39mif\u001b[39;00m _is_scalar_or_zero_d_array(arg) \u001b[39mor\u001b[39;00m \u001b[39misinstance\u001b[39m(arg, \u001b[39mtuple\u001b[39m):\n\u001b[0;32m-> 1158\u001b[0m     \u001b[39mreturn\u001b[39;00m \u001b[39mself\u001b[39;49m\u001b[39m.\u001b[39;49m_get_columns_by_label(arg, downcast\u001b[39m=\u001b[39;49m\u001b[39mTrue\u001b[39;49;00m)\n\u001b[1;32m   1160\u001b[0m \u001b[39melif\u001b[39;00m \u001b[39misinstance\u001b[39m(arg, \u001b[39mslice\u001b[39m):\n",
      "File \u001b[0;32m~/.local/lib/python3.8/site-packages/nvtx/nvtx.py:101\u001b[0m, in \u001b[0;36mannotate.__call__.<locals>.inner\u001b[0;34m(*args, **kwargs)\u001b[0m\n\u001b[1;32m    100\u001b[0m libnvtx_push_range(\u001b[39mself\u001b[39m\u001b[39m.\u001b[39mattributes, \u001b[39mself\u001b[39m\u001b[39m.\u001b[39mdomain\u001b[39m.\u001b[39mhandle)\n\u001b[0;32m--> 101\u001b[0m result \u001b[39m=\u001b[39m func(\u001b[39m*\u001b[39;49margs, \u001b[39m*\u001b[39;49m\u001b[39m*\u001b[39;49mkwargs)\n\u001b[1;32m    102\u001b[0m libnvtx_pop_range(\u001b[39mself\u001b[39m\u001b[39m.\u001b[39mdomain\u001b[39m.\u001b[39mhandle)\n",
      "File \u001b[0;32m~/.local/lib/python3.8/site-packages/cudf/core/dataframe.py:1903\u001b[0m, in \u001b[0;36mDataFrame._get_columns_by_label\u001b[0;34m(self, labels, downcast)\u001b[0m\n\u001b[1;32m   1898\u001b[0m \u001b[39m\"\"\"\u001b[39;00m\n\u001b[1;32m   1899\u001b[0m \u001b[39mReturn columns of dataframe by `labels`\u001b[39;00m\n\u001b[1;32m   1900\u001b[0m \n\u001b[1;32m   1901\u001b[0m \u001b[39mIf downcast is True, try and downcast from a DataFrame to a Series\u001b[39;00m\n\u001b[1;32m   1902\u001b[0m \u001b[39m\"\"\"\u001b[39;00m\n\u001b[0;32m-> 1903\u001b[0m new_data \u001b[39m=\u001b[39m \u001b[39msuper\u001b[39;49m()\u001b[39m.\u001b[39;49m_get_columns_by_label(labels, downcast)\n\u001b[1;32m   1904\u001b[0m \u001b[39mif\u001b[39;00m downcast:\n",
      "File \u001b[0;32m~/.local/lib/python3.8/site-packages/nvtx/nvtx.py:101\u001b[0m, in \u001b[0;36mannotate.__call__.<locals>.inner\u001b[0;34m(*args, **kwargs)\u001b[0m\n\u001b[1;32m    100\u001b[0m libnvtx_push_range(\u001b[39mself\u001b[39m\u001b[39m.\u001b[39mattributes, \u001b[39mself\u001b[39m\u001b[39m.\u001b[39mdomain\u001b[39m.\u001b[39mhandle)\n\u001b[0;32m--> 101\u001b[0m result \u001b[39m=\u001b[39m func(\u001b[39m*\u001b[39;49margs, \u001b[39m*\u001b[39;49m\u001b[39m*\u001b[39;49mkwargs)\n\u001b[1;32m    102\u001b[0m libnvtx_pop_range(\u001b[39mself\u001b[39m\u001b[39m.\u001b[39mdomain\u001b[39m.\u001b[39mhandle)\n",
      "File \u001b[0;32m~/.local/lib/python3.8/site-packages/cudf/core/frame.py:418\u001b[0m, in \u001b[0;36mFrame._get_columns_by_label\u001b[0;34m(self, labels, downcast)\u001b[0m\n\u001b[1;32m    414\u001b[0m \u001b[39m\"\"\"\u001b[39;00m\n\u001b[1;32m    415\u001b[0m \u001b[39mReturns columns of the Frame specified by `labels`\u001b[39;00m\n\u001b[1;32m    416\u001b[0m \n\u001b[1;32m    417\u001b[0m \u001b[39m\"\"\"\u001b[39;00m\n\u001b[0;32m--> 418\u001b[0m \u001b[39mreturn\u001b[39;00m \u001b[39mself\u001b[39;49m\u001b[39m.\u001b[39;49m_data\u001b[39m.\u001b[39;49mselect_by_label(labels)\n",
      "File \u001b[0;32m~/.local/lib/python3.8/site-packages/cudf/core/column_accessor.py:355\u001b[0m, in \u001b[0;36mColumnAccessor.select_by_label\u001b[0;34m(self, key)\u001b[0m\n\u001b[1;32m    354\u001b[0m         \u001b[39mreturn\u001b[39;00m \u001b[39mself\u001b[39m\u001b[39m.\u001b[39m_select_by_label_with_wildcard(key)\n\u001b[0;32m--> 355\u001b[0m \u001b[39mreturn\u001b[39;00m \u001b[39mself\u001b[39;49m\u001b[39m.\u001b[39;49m_select_by_label_grouped(key)\n",
      "File \u001b[0;32m~/.local/lib/python3.8/site-packages/cudf/core/column_accessor.py:475\u001b[0m, in \u001b[0;36mColumnAccessor._select_by_label_grouped\u001b[0;34m(self, key)\u001b[0m\n\u001b[1;32m    474\u001b[0m \u001b[39mdef\u001b[39;00m \u001b[39m_select_by_label_grouped\u001b[39m(\u001b[39mself\u001b[39m, key: Any) \u001b[39m-\u001b[39m\u001b[39m>\u001b[39m ColumnAccessor:\n\u001b[0;32m--> 475\u001b[0m     result \u001b[39m=\u001b[39m \u001b[39mself\u001b[39;49m\u001b[39m.\u001b[39;49m_grouped_data[key]\n\u001b[1;32m    476\u001b[0m     \u001b[39mif\u001b[39;00m \u001b[39misinstance\u001b[39m(result, cudf\u001b[39m.\u001b[39mcore\u001b[39m.\u001b[39mcolumn\u001b[39m.\u001b[39mColumnBase):\n",
      "\u001b[0;31mKeyError\u001b[0m: 'schema'",
      "\nDuring handling of the above exception, another exception occurred:\n",
      "\u001b[0;31mAttributeError\u001b[0m                            Traceback (most recent call last)",
      "Cell \u001b[0;32mIn[8], line 2\u001b[0m\n\u001b[1;32m      1\u001b[0m processor \u001b[39m=\u001b[39m nvt\u001b[39m.\u001b[39mWorkflow(categorical_processed)\n\u001b[0;32m----> 2\u001b[0m processor\u001b[39m.\u001b[39;49mfit(train)\n",
      "File \u001b[0;32m~/anaconda3/envs/recsys23/lib/python3.8/site-packages/nvtabular/workflow/workflow.py:180\u001b[0m, in \u001b[0;36mWorkflow.fit\u001b[0;34m(self, dataset)\u001b[0m\n\u001b[1;32m    177\u001b[0m \u001b[39mself\u001b[39m\u001b[39m.\u001b[39mclear_stats()\n\u001b[1;32m    179\u001b[0m \u001b[39mif\u001b[39;00m \u001b[39mnot\u001b[39;00m \u001b[39mself\u001b[39m\u001b[39m.\u001b[39mgraph\u001b[39m.\u001b[39moutput_schema:\n\u001b[0;32m--> 180\u001b[0m     \u001b[39mself\u001b[39m\u001b[39m.\u001b[39mgraph\u001b[39m.\u001b[39mconstruct_schema(dataset\u001b[39m.\u001b[39;49mschema)\n\u001b[1;32m    182\u001b[0m ddf \u001b[39m=\u001b[39m dataset\u001b[39m.\u001b[39mto_ddf(columns\u001b[39m=\u001b[39m\u001b[39mself\u001b[39m\u001b[39m.\u001b[39m_input_columns())\n\u001b[1;32m    184\u001b[0m \u001b[39m# Get a dictionary mapping all StatOperators we need to fit to a set of any dependent\u001b[39;00m\n\u001b[1;32m    185\u001b[0m \u001b[39m# StatOperators (having StatOperators that depend on the output of other StatOperators\u001b[39;00m\n\u001b[1;32m    186\u001b[0m \u001b[39m# means that will have multiple phases in the fit cycle here)\u001b[39;00m\n",
      "File \u001b[0;32m~/.local/lib/python3.8/site-packages/cudf/utils/utils.py:275\u001b[0m, in \u001b[0;36mGetAttrGetItemMixin.__getattr__\u001b[0;34m(self, key)\u001b[0m\n\u001b[1;32m    273\u001b[0m     \u001b[39mreturn\u001b[39;00m \u001b[39mself\u001b[39m[key]\n\u001b[1;32m    274\u001b[0m \u001b[39mexcept\u001b[39;00m \u001b[39mKeyError\u001b[39;00m:\n\u001b[0;32m--> 275\u001b[0m     \u001b[39mraise\u001b[39;00m \u001b[39mAttributeError\u001b[39;00m(\n\u001b[1;32m    276\u001b[0m         \u001b[39mf\u001b[39m\u001b[39m\"\u001b[39m\u001b[39m{\u001b[39;00m\u001b[39mtype\u001b[39m(\u001b[39mself\u001b[39m)\u001b[39m.\u001b[39m\u001b[39m__name__\u001b[39m\u001b[39m}\u001b[39;00m\u001b[39m object has no attribute \u001b[39m\u001b[39m{\u001b[39;00mkey\u001b[39m}\u001b[39;00m\u001b[39m\"\u001b[39m\n\u001b[1;32m    277\u001b[0m     )\n",
      "\u001b[0;31mAttributeError\u001b[0m: DataFrame object has no attribute schema"
     ]
    }
   ],
   "source": [
    "processor = nvt.Workflow(categorical_processed)\n",
    "processor.fit(train)"
   ]
  },
  {
   "cell_type": "code",
   "execution_count": null,
   "metadata": {},
   "outputs": [],
   "source": []
  },
  {
   "cell_type": "code",
   "execution_count": 14,
   "metadata": {},
   "outputs": [
    {
     "data": {
      "text/html": [
       "<div>\n",
       "<style scoped>\n",
       "    .dataframe tbody tr th:only-of-type {\n",
       "        vertical-align: middle;\n",
       "    }\n",
       "\n",
       "    .dataframe tbody tr th {\n",
       "        vertical-align: top;\n",
       "    }\n",
       "\n",
       "    .dataframe thead th {\n",
       "        text-align: right;\n",
       "    }\n",
       "</style>\n",
       "<table border=\"1\" class=\"dataframe\">\n",
       "  <thead>\n",
       "    <tr style=\"text-align: right;\">\n",
       "      <th></th>\n",
       "      <th>prev_items</th>\n",
       "      <th>next_item</th>\n",
       "      <th>locale</th>\n",
       "      <th>id</th>\n",
       "      <th>price</th>\n",
       "      <th>brand</th>\n",
       "      <th>color</th>\n",
       "      <th>size</th>\n",
       "      <th>model</th>\n",
       "      <th>material</th>\n",
       "      <th>author</th>\n",
       "    </tr>\n",
       "  </thead>\n",
       "  <tbody>\n",
       "    <tr>\n",
       "      <th>0</th>\n",
       "      <td>B0967LF6KW</td>\n",
       "      <td>B096TZRWMZ</td>\n",
       "      <td>DE</td>\n",
       "      <td>265</td>\n",
       "      <td>17.99</td>\n",
       "      <td>CASEKOO</td>\n",
       "      <td>clear</td>\n",
       "      <td>&lt;NA&gt;</td>\n",
       "      <td>iPhone 13 Pro</td>\n",
       "      <td>Polykarbonat</td>\n",
       "      <td>&lt;NA&gt;</td>\n",
       "    </tr>\n",
       "    <tr>\n",
       "      <th>1</th>\n",
       "      <td>B0967LF6KW</td>\n",
       "      <td>B096TZRWMZ</td>\n",
       "      <td>DE</td>\n",
       "      <td>265</td>\n",
       "      <td>15.98</td>\n",
       "      <td>CASEKOO</td>\n",
       "      <td>Clear</td>\n",
       "      <td>&lt;NA&gt;</td>\n",
       "      <td>iPhone 13 Pro</td>\n",
       "      <td>Polycarbonate</td>\n",
       "      <td>&lt;NA&gt;</td>\n",
       "    </tr>\n",
       "    <tr>\n",
       "      <th>2</th>\n",
       "      <td>B09WJ1NBHQ</td>\n",
       "      <td>B096TZRWMZ</td>\n",
       "      <td>DE</td>\n",
       "      <td>265</td>\n",
       "      <td>19.99</td>\n",
       "      <td>CASEKOO</td>\n",
       "      <td>Alpingrün</td>\n",
       "      <td>&lt;NA&gt;</td>\n",
       "      <td>iPhone 13 Pro</td>\n",
       "      <td>Kunststoff</td>\n",
       "      <td>&lt;NA&gt;</td>\n",
       "    </tr>\n",
       "    <tr>\n",
       "      <th>3</th>\n",
       "      <td>B09WJ1NBHQ</td>\n",
       "      <td>B096TZRWMZ</td>\n",
       "      <td>DE</td>\n",
       "      <td>265</td>\n",
       "      <td>18.99</td>\n",
       "      <td>CASEKOO</td>\n",
       "      <td>Alpine Green</td>\n",
       "      <td>&lt;NA&gt;</td>\n",
       "      <td>iPhone 13 Pro</td>\n",
       "      <td>Polycarbonate</td>\n",
       "      <td>&lt;NA&gt;</td>\n",
       "    </tr>\n",
       "    <tr>\n",
       "      <th>4</th>\n",
       "      <td>B09WJ1NBHQ</td>\n",
       "      <td>B096TZRWMZ</td>\n",
       "      <td>DE</td>\n",
       "      <td>265</td>\n",
       "      <td>2599.00</td>\n",
       "      <td>CASEKOO</td>\n",
       "      <td>グリーン・アルパイン</td>\n",
       "      <td>&lt;NA&gt;</td>\n",
       "      <td>iPhone 13 Pro</td>\n",
       "      <td>ポリカーボネート</td>\n",
       "      <td>&lt;NA&gt;</td>\n",
       "    </tr>\n",
       "    <tr>\n",
       "      <th>...</th>\n",
       "      <td>...</td>\n",
       "      <td>...</td>\n",
       "      <td>...</td>\n",
       "      <td>...</td>\n",
       "      <td>...</td>\n",
       "      <td>...</td>\n",
       "      <td>...</td>\n",
       "      <td>...</td>\n",
       "      <td>...</td>\n",
       "      <td>...</td>\n",
       "      <td>...</td>\n",
       "    </tr>\n",
       "    <tr>\n",
       "      <th>7175</th>\n",
       "      <td>B09C5RF4VN</td>\n",
       "      <td>B096V2N136</td>\n",
       "      <td>DE</td>\n",
       "      <td>867</td>\n",
       "      <td>16.99</td>\n",
       "      <td>TAURI</td>\n",
       "      <td>trasparente</td>\n",
       "      <td>&lt;NA&gt;</td>\n",
       "      <td>for iphone 13 6.1 inch</td>\n",
       "      <td>Poliuretano termoplastico</td>\n",
       "      <td>&lt;NA&gt;</td>\n",
       "    </tr>\n",
       "    <tr>\n",
       "      <th>7176</th>\n",
       "      <td>B09C5QXMQY</td>\n",
       "      <td>B096V2N136</td>\n",
       "      <td>DE</td>\n",
       "      <td>867</td>\n",
       "      <td>16.99</td>\n",
       "      <td>TAURI</td>\n",
       "      <td>D-Blue</td>\n",
       "      <td>&lt;NA&gt;</td>\n",
       "      <td>iPhone 13</td>\n",
       "      <td>Tempered Glass</td>\n",
       "      <td>&lt;NA&gt;</td>\n",
       "    </tr>\n",
       "    <tr>\n",
       "      <th>7177</th>\n",
       "      <td>B09C5QXMQY</td>\n",
       "      <td>B096V2N136</td>\n",
       "      <td>DE</td>\n",
       "      <td>867</td>\n",
       "      <td>17.99</td>\n",
       "      <td>TAURI</td>\n",
       "      <td>Azul</td>\n",
       "      <td>&lt;NA&gt;</td>\n",
       "      <td>iPhone 13</td>\n",
       "      <td>Vidrio templado</td>\n",
       "      <td>&lt;NA&gt;</td>\n",
       "    </tr>\n",
       "    <tr>\n",
       "      <th>7178</th>\n",
       "      <td>B09C5QXMQY</td>\n",
       "      <td>B096V2N136</td>\n",
       "      <td>DE</td>\n",
       "      <td>867</td>\n",
       "      <td>16.99</td>\n",
       "      <td>TAURI</td>\n",
       "      <td>Blu</td>\n",
       "      <td>&lt;NA&gt;</td>\n",
       "      <td>iPhone 13</td>\n",
       "      <td>Poliuretano termoplastico</td>\n",
       "      <td>&lt;NA&gt;</td>\n",
       "    </tr>\n",
       "    <tr>\n",
       "      <th>7179</th>\n",
       "      <td>B09C5QXMQY</td>\n",
       "      <td>B096V2N136</td>\n",
       "      <td>DE</td>\n",
       "      <td>867</td>\n",
       "      <td>17.99</td>\n",
       "      <td>TAURI</td>\n",
       "      <td>Bleu</td>\n",
       "      <td>&lt;NA&gt;</td>\n",
       "      <td>iPhone 13</td>\n",
       "      <td>Verre trempé</td>\n",
       "      <td>&lt;NA&gt;</td>\n",
       "    </tr>\n",
       "  </tbody>\n",
       "</table>\n",
       "<p>7180 rows × 11 columns</p>\n",
       "</div>"
      ],
      "text/plain": [
       "      prev_items   next_item locale   id    price    brand         color  \\\n",
       "0     B0967LF6KW  B096TZRWMZ     DE  265    17.99  CASEKOO         clear   \n",
       "1     B0967LF6KW  B096TZRWMZ     DE  265    15.98  CASEKOO         Clear   \n",
       "2     B09WJ1NBHQ  B096TZRWMZ     DE  265    19.99  CASEKOO     Alpingrün   \n",
       "3     B09WJ1NBHQ  B096TZRWMZ     DE  265    18.99  CASEKOO  Alpine Green   \n",
       "4     B09WJ1NBHQ  B096TZRWMZ     DE  265  2599.00  CASEKOO    グリーン・アルパイン   \n",
       "...          ...         ...    ...  ...      ...      ...           ...   \n",
       "7175  B09C5RF4VN  B096V2N136     DE  867    16.99    TAURI   trasparente   \n",
       "7176  B09C5QXMQY  B096V2N136     DE  867    16.99    TAURI        D-Blue   \n",
       "7177  B09C5QXMQY  B096V2N136     DE  867    17.99    TAURI          Azul   \n",
       "7178  B09C5QXMQY  B096V2N136     DE  867    16.99    TAURI           Blu   \n",
       "7179  B09C5QXMQY  B096V2N136     DE  867    17.99    TAURI          Bleu   \n",
       "\n",
       "      size                   model                   material author  \n",
       "0     <NA>           iPhone 13 Pro               Polykarbonat   <NA>  \n",
       "1     <NA>           iPhone 13 Pro              Polycarbonate   <NA>  \n",
       "2     <NA>           iPhone 13 Pro                 Kunststoff   <NA>  \n",
       "3     <NA>           iPhone 13 Pro              Polycarbonate   <NA>  \n",
       "4     <NA>           iPhone 13 Pro                   ポリカーボネート   <NA>  \n",
       "...    ...                     ...                        ...    ...  \n",
       "7175  <NA>  for iphone 13 6.1 inch  Poliuretano termoplastico   <NA>  \n",
       "7176  <NA>               iPhone 13             Tempered Glass   <NA>  \n",
       "7177  <NA>               iPhone 13            Vidrio templado   <NA>  \n",
       "7178  <NA>               iPhone 13  Poliuretano termoplastico   <NA>  \n",
       "7179  <NA>               iPhone 13               Verre trempé   <NA>  \n",
       "\n",
       "[7180 rows x 11 columns]"
      ]
     },
     "execution_count": 14,
     "metadata": {},
     "output_type": "execute_result"
    }
   ],
   "source": [
    "numerical = [numerical] >> FillMissing() >> Clip(min_value=0) >> Normalize() >> categorical_list"
   ]
  },
  {
   "cell_type": "code",
   "execution_count": 13,
   "metadata": {},
   "outputs": [
    {
     "ename": "AttributeError",
     "evalue": "DataFrame object has no attribute schema",
     "output_type": "error",
     "traceback": [
      "\u001b[0;31m---------------------------------------------------------------------------\u001b[0m",
      "\u001b[0;31mKeyError\u001b[0m                                  Traceback (most recent call last)",
      "File \u001b[0;32m~/.local/lib/python3.8/site-packages/cudf/utils/utils.py:273\u001b[0m, in \u001b[0;36mGetAttrGetItemMixin.__getattr__\u001b[0;34m(self, key)\u001b[0m\n\u001b[1;32m    272\u001b[0m \u001b[39mtry\u001b[39;00m:\n\u001b[0;32m--> 273\u001b[0m     \u001b[39mreturn\u001b[39;00m \u001b[39mself\u001b[39;49m[key]\n\u001b[1;32m    274\u001b[0m \u001b[39mexcept\u001b[39;00m \u001b[39mKeyError\u001b[39;00m:\n",
      "File \u001b[0;32m~/.local/lib/python3.8/site-packages/nvtx/nvtx.py:101\u001b[0m, in \u001b[0;36mannotate.__call__.<locals>.inner\u001b[0;34m(*args, **kwargs)\u001b[0m\n\u001b[1;32m    100\u001b[0m libnvtx_push_range(\u001b[39mself\u001b[39m\u001b[39m.\u001b[39mattributes, \u001b[39mself\u001b[39m\u001b[39m.\u001b[39mdomain\u001b[39m.\u001b[39mhandle)\n\u001b[0;32m--> 101\u001b[0m result \u001b[39m=\u001b[39m func(\u001b[39m*\u001b[39;49margs, \u001b[39m*\u001b[39;49m\u001b[39m*\u001b[39;49mkwargs)\n\u001b[1;32m    102\u001b[0m libnvtx_pop_range(\u001b[39mself\u001b[39m\u001b[39m.\u001b[39mdomain\u001b[39m.\u001b[39mhandle)\n",
      "File \u001b[0;32m~/.local/lib/python3.8/site-packages/cudf/core/dataframe.py:1158\u001b[0m, in \u001b[0;36mDataFrame.__getitem__\u001b[0;34m(self, arg)\u001b[0m\n\u001b[1;32m   1157\u001b[0m \u001b[39mif\u001b[39;00m _is_scalar_or_zero_d_array(arg) \u001b[39mor\u001b[39;00m \u001b[39misinstance\u001b[39m(arg, \u001b[39mtuple\u001b[39m):\n\u001b[0;32m-> 1158\u001b[0m     \u001b[39mreturn\u001b[39;00m \u001b[39mself\u001b[39;49m\u001b[39m.\u001b[39;49m_get_columns_by_label(arg, downcast\u001b[39m=\u001b[39;49m\u001b[39mTrue\u001b[39;49;00m)\n\u001b[1;32m   1160\u001b[0m \u001b[39melif\u001b[39;00m \u001b[39misinstance\u001b[39m(arg, \u001b[39mslice\u001b[39m):\n",
      "File \u001b[0;32m~/.local/lib/python3.8/site-packages/nvtx/nvtx.py:101\u001b[0m, in \u001b[0;36mannotate.__call__.<locals>.inner\u001b[0;34m(*args, **kwargs)\u001b[0m\n\u001b[1;32m    100\u001b[0m libnvtx_push_range(\u001b[39mself\u001b[39m\u001b[39m.\u001b[39mattributes, \u001b[39mself\u001b[39m\u001b[39m.\u001b[39mdomain\u001b[39m.\u001b[39mhandle)\n\u001b[0;32m--> 101\u001b[0m result \u001b[39m=\u001b[39m func(\u001b[39m*\u001b[39;49margs, \u001b[39m*\u001b[39;49m\u001b[39m*\u001b[39;49mkwargs)\n\u001b[1;32m    102\u001b[0m libnvtx_pop_range(\u001b[39mself\u001b[39m\u001b[39m.\u001b[39mdomain\u001b[39m.\u001b[39mhandle)\n",
      "File \u001b[0;32m~/.local/lib/python3.8/site-packages/cudf/core/dataframe.py:1903\u001b[0m, in \u001b[0;36mDataFrame._get_columns_by_label\u001b[0;34m(self, labels, downcast)\u001b[0m\n\u001b[1;32m   1898\u001b[0m \u001b[39m\"\"\"\u001b[39;00m\n\u001b[1;32m   1899\u001b[0m \u001b[39mReturn columns of dataframe by `labels`\u001b[39;00m\n\u001b[1;32m   1900\u001b[0m \n\u001b[1;32m   1901\u001b[0m \u001b[39mIf downcast is True, try and downcast from a DataFrame to a Series\u001b[39;00m\n\u001b[1;32m   1902\u001b[0m \u001b[39m\"\"\"\u001b[39;00m\n\u001b[0;32m-> 1903\u001b[0m new_data \u001b[39m=\u001b[39m \u001b[39msuper\u001b[39;49m()\u001b[39m.\u001b[39;49m_get_columns_by_label(labels, downcast)\n\u001b[1;32m   1904\u001b[0m \u001b[39mif\u001b[39;00m downcast:\n",
      "File \u001b[0;32m~/.local/lib/python3.8/site-packages/nvtx/nvtx.py:101\u001b[0m, in \u001b[0;36mannotate.__call__.<locals>.inner\u001b[0;34m(*args, **kwargs)\u001b[0m\n\u001b[1;32m    100\u001b[0m libnvtx_push_range(\u001b[39mself\u001b[39m\u001b[39m.\u001b[39mattributes, \u001b[39mself\u001b[39m\u001b[39m.\u001b[39mdomain\u001b[39m.\u001b[39mhandle)\n\u001b[0;32m--> 101\u001b[0m result \u001b[39m=\u001b[39m func(\u001b[39m*\u001b[39;49margs, \u001b[39m*\u001b[39;49m\u001b[39m*\u001b[39;49mkwargs)\n\u001b[1;32m    102\u001b[0m libnvtx_pop_range(\u001b[39mself\u001b[39m\u001b[39m.\u001b[39mdomain\u001b[39m.\u001b[39mhandle)\n",
      "File \u001b[0;32m~/.local/lib/python3.8/site-packages/cudf/core/frame.py:418\u001b[0m, in \u001b[0;36mFrame._get_columns_by_label\u001b[0;34m(self, labels, downcast)\u001b[0m\n\u001b[1;32m    414\u001b[0m \u001b[39m\"\"\"\u001b[39;00m\n\u001b[1;32m    415\u001b[0m \u001b[39mReturns columns of the Frame specified by `labels`\u001b[39;00m\n\u001b[1;32m    416\u001b[0m \n\u001b[1;32m    417\u001b[0m \u001b[39m\"\"\"\u001b[39;00m\n\u001b[0;32m--> 418\u001b[0m \u001b[39mreturn\u001b[39;00m \u001b[39mself\u001b[39;49m\u001b[39m.\u001b[39;49m_data\u001b[39m.\u001b[39;49mselect_by_label(labels)\n",
      "File \u001b[0;32m~/.local/lib/python3.8/site-packages/cudf/core/column_accessor.py:355\u001b[0m, in \u001b[0;36mColumnAccessor.select_by_label\u001b[0;34m(self, key)\u001b[0m\n\u001b[1;32m    354\u001b[0m         \u001b[39mreturn\u001b[39;00m \u001b[39mself\u001b[39m\u001b[39m.\u001b[39m_select_by_label_with_wildcard(key)\n\u001b[0;32m--> 355\u001b[0m \u001b[39mreturn\u001b[39;00m \u001b[39mself\u001b[39;49m\u001b[39m.\u001b[39;49m_select_by_label_grouped(key)\n",
      "File \u001b[0;32m~/.local/lib/python3.8/site-packages/cudf/core/column_accessor.py:475\u001b[0m, in \u001b[0;36mColumnAccessor._select_by_label_grouped\u001b[0;34m(self, key)\u001b[0m\n\u001b[1;32m    474\u001b[0m \u001b[39mdef\u001b[39;00m \u001b[39m_select_by_label_grouped\u001b[39m(\u001b[39mself\u001b[39m, key: Any) \u001b[39m-\u001b[39m\u001b[39m>\u001b[39m ColumnAccessor:\n\u001b[0;32m--> 475\u001b[0m     result \u001b[39m=\u001b[39m \u001b[39mself\u001b[39;49m\u001b[39m.\u001b[39;49m_grouped_data[key]\n\u001b[1;32m    476\u001b[0m     \u001b[39mif\u001b[39;00m \u001b[39misinstance\u001b[39m(result, cudf\u001b[39m.\u001b[39mcore\u001b[39m.\u001b[39mcolumn\u001b[39m.\u001b[39mColumnBase):\n",
      "\u001b[0;31mKeyError\u001b[0m: 'schema'",
      "\nDuring handling of the above exception, another exception occurred:\n",
      "\u001b[0;31mAttributeError\u001b[0m                            Traceback (most recent call last)",
      "Cell \u001b[0;32mIn[13], line 4\u001b[0m\n\u001b[1;32m      2\u001b[0m processor \u001b[39m=\u001b[39m nvt\u001b[39m.\u001b[39mWorkflow(categorical \u001b[39m+\u001b[39m numerical)\n\u001b[1;32m      3\u001b[0m \u001b[39m# fit the processor on the train variable\u001b[39;00m\n\u001b[0;32m----> 4\u001b[0m processor\u001b[39m.\u001b[39;49mfit(train)\n",
      "File \u001b[0;32m~/anaconda3/envs/recsys23/lib/python3.8/site-packages/nvtabular/workflow/workflow.py:180\u001b[0m, in \u001b[0;36mWorkflow.fit\u001b[0;34m(self, dataset)\u001b[0m\n\u001b[1;32m    177\u001b[0m \u001b[39mself\u001b[39m\u001b[39m.\u001b[39mclear_stats()\n\u001b[1;32m    179\u001b[0m \u001b[39mif\u001b[39;00m \u001b[39mnot\u001b[39;00m \u001b[39mself\u001b[39m\u001b[39m.\u001b[39mgraph\u001b[39m.\u001b[39moutput_schema:\n\u001b[0;32m--> 180\u001b[0m     \u001b[39mself\u001b[39m\u001b[39m.\u001b[39mgraph\u001b[39m.\u001b[39mconstruct_schema(dataset\u001b[39m.\u001b[39;49mschema)\n\u001b[1;32m    182\u001b[0m ddf \u001b[39m=\u001b[39m dataset\u001b[39m.\u001b[39mto_ddf(columns\u001b[39m=\u001b[39m\u001b[39mself\u001b[39m\u001b[39m.\u001b[39m_input_columns())\n\u001b[1;32m    184\u001b[0m \u001b[39m# Get a dictionary mapping all StatOperators we need to fit to a set of any dependent\u001b[39;00m\n\u001b[1;32m    185\u001b[0m \u001b[39m# StatOperators (having StatOperators that depend on the output of other StatOperators\u001b[39;00m\n\u001b[1;32m    186\u001b[0m \u001b[39m# means that will have multiple phases in the fit cycle here)\u001b[39;00m\n",
      "File \u001b[0;32m~/.local/lib/python3.8/site-packages/cudf/utils/utils.py:275\u001b[0m, in \u001b[0;36mGetAttrGetItemMixin.__getattr__\u001b[0;34m(self, key)\u001b[0m\n\u001b[1;32m    273\u001b[0m     \u001b[39mreturn\u001b[39;00m \u001b[39mself\u001b[39m[key]\n\u001b[1;32m    274\u001b[0m \u001b[39mexcept\u001b[39;00m \u001b[39mKeyError\u001b[39;00m:\n\u001b[0;32m--> 275\u001b[0m     \u001b[39mraise\u001b[39;00m \u001b[39mAttributeError\u001b[39;00m(\n\u001b[1;32m    276\u001b[0m         \u001b[39mf\u001b[39m\u001b[39m\"\u001b[39m\u001b[39m{\u001b[39;00m\u001b[39mtype\u001b[39m(\u001b[39mself\u001b[39m)\u001b[39m.\u001b[39m\u001b[39m__name__\u001b[39m\u001b[39m}\u001b[39;00m\u001b[39m object has no attribute \u001b[39m\u001b[39m{\u001b[39;00mkey\u001b[39m}\u001b[39;00m\u001b[39m\"\u001b[39m\n\u001b[1;32m    277\u001b[0m     )\n",
      "\u001b[0;31mAttributeError\u001b[0m: DataFrame object has no attribute schema"
     ]
    }
   ],
   "source": [
    "# combine the preprocessing steps into a single operator\n",
    "processor = nvt.Workflow(categorical + numerical)\n",
    "# fit the processor on the train variable\n",
    "processor.fit(train)"
   ]
  },
  {
   "cell_type": "code",
   "execution_count": 26,
   "metadata": {},
   "outputs": [
    {
     "ename": "TypeError",
     "evalue": "can only concatenate list (not \"str\") to list",
     "output_type": "error",
     "traceback": [
      "\u001b[0;31m---------------------------------------------------------------------------\u001b[0m",
      "\u001b[0;31mTypeError\u001b[0m                                 Traceback (most recent call last)",
      "Cell \u001b[0;32mIn[26], line 1\u001b[0m\n\u001b[0;32m----> 1\u001b[0m total \u001b[39m=\u001b[39m categorical \u001b[39m+\u001b[39;49m numerical \u001b[39m+\u001b[39;49m \u001b[39m'\u001b[39;49m\u001b[39mid\u001b[39;49m\u001b[39m'\u001b[39;49m\n\u001b[1;32m      2\u001b[0m groupby_features \u001b[39m=\u001b[39m  (total\n\u001b[1;32m      3\u001b[0m                      \u001b[39m>>\u001b[39m Groupby( \n\u001b[1;32m      4\u001b[0m                         groupby_cols\u001b[39m=\u001b[39m[\u001b[39m'\u001b[39m\u001b[39mid\u001b[39m\u001b[39m'\u001b[39m],\n\u001b[0;32m   (...)\u001b[0m\n\u001b[1;32m     21\u001b[0m                     \u001b[39m>>\u001b[39m Drop(columns\u001b[39m=\u001b[39m[\u001b[39m'\u001b[39m\u001b[39mindex\u001b[39m\u001b[39m'\u001b[39m])\n\u001b[1;32m     22\u001b[0m )\n",
      "\u001b[0;31mTypeError\u001b[0m: can only concatenate list (not \"str\") to list"
     ]
    }
   ],
   "source": [
    "total = categorical + numerical + 'id'\n",
    "groupby_features =  (total\n",
    "                     >> Groupby( \n",
    "                        groupby_cols=['id'],\n",
    "                        aggs={\n",
    "                            'prev_items': ['list','count','last'],\n",
    "                            'next_item': ['list','count','last'],\n",
    "                            'price': ['list'],\n",
    "                            'brand': ['list'],\n",
    "                            'color': ['list'],\n",
    "                            'material': ['list'],\n",
    "                            'author': ['list'],\n",
    "                            'price': ['list'],\n",
    "                            'size': ['list'],\n",
    "                        },\n",
    "                        sort_cols=['index']\n",
    "                    )\n",
    "                    # drop id column\n",
    "                    >> Drop(columns=['id'])\n",
    "                    # drop index column\n",
    "                    >> Drop(columns=['index'])\n",
    ")\n"
   ]
  },
  {
   "cell_type": "code",
   "execution_count": 19,
   "metadata": {},
   "outputs": [
    {
     "data": {
      "text/plain": [
       "<Node Categorify output>"
      ]
     },
     "execution_count": 19,
     "metadata": {},
     "output_type": "execute_result"
    }
   ],
   "source": [
    "ids"
   ]
  },
  {
   "cell_type": "code",
   "execution_count": null,
   "metadata": {},
   "outputs": [],
   "source": []
  }
 ],
 "metadata": {
  "kernelspec": {
   "display_name": "Python 3",
   "language": "python",
   "name": "python3"
  },
  "language_info": {
   "codemirror_mode": {
    "name": "ipython",
    "version": 3
   },
   "file_extension": ".py",
   "mimetype": "text/x-python",
   "name": "python",
   "nbconvert_exporter": "python",
   "pygments_lexer": "ipython3",
   "version": "3.8.16"
  },
  "orig_nbformat": 4,
  "vscode": {
   "interpreter": {
    "hash": "1794b776e36e7f51192a1d86339b53a5f9ae975bebb8233c7d09cedc1af69f9e"
   }
  }
 },
 "nbformat": 4,
 "nbformat_minor": 2
}
